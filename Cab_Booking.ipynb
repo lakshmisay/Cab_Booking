{
 "cells": [
  {
   "cell_type": "markdown",
   "metadata": {},
   "source": [
    "# Cab Booking\n"
   ]
  },
  {
   "cell_type": "markdown",
   "metadata": {},
   "source": [
    "### Load the needed Libraries"
   ]
  },
  {
   "cell_type": "code",
   "execution_count": 158,
   "metadata": {},
   "outputs": [],
   "source": [
    "import pandas as pd\n",
    "import numpy as np\n",
    "import matplotlib.pyplot as plt\n",
    "import seaborn as sns\n",
    "import warnings\n",
    "import datetime\n",
    "warnings.filterwarnings('ignore')\n",
    "from sklearn.model_selection import train_test_split\n",
    "from sklearn.preprocessing import LabelEncoder"
   ]
  },
  {
   "cell_type": "code",
   "execution_count": 159,
   "metadata": {},
   "outputs": [
    {
     "data": {
      "text/html": [
       "<div>\n",
       "<style scoped>\n",
       "    .dataframe tbody tr th:only-of-type {\n",
       "        vertical-align: middle;\n",
       "    }\n",
       "\n",
       "    .dataframe tbody tr th {\n",
       "        vertical-align: top;\n",
       "    }\n",
       "\n",
       "    .dataframe thead th {\n",
       "        text-align: right;\n",
       "    }\n",
       "</style>\n",
       "<table border=\"1\" class=\"dataframe\">\n",
       "  <thead>\n",
       "    <tr style=\"text-align: right;\">\n",
       "      <th></th>\n",
       "      <th>datetime</th>\n",
       "      <th>season</th>\n",
       "      <th>holiday</th>\n",
       "      <th>workingday</th>\n",
       "      <th>weather</th>\n",
       "      <th>temp</th>\n",
       "      <th>atemp</th>\n",
       "      <th>humidity</th>\n",
       "      <th>windspeed</th>\n",
       "    </tr>\n",
       "  </thead>\n",
       "  <tbody>\n",
       "    <tr>\n",
       "      <td>0</td>\n",
       "      <td>5/10/2012 11:00</td>\n",
       "      <td>Summer</td>\n",
       "      <td>0</td>\n",
       "      <td>1</td>\n",
       "      <td>Clear + Few clouds</td>\n",
       "      <td>21.32</td>\n",
       "      <td>25.000</td>\n",
       "      <td>48</td>\n",
       "      <td>35.0008</td>\n",
       "    </tr>\n",
       "    <tr>\n",
       "      <td>1</td>\n",
       "      <td>6/9/2012 7:00</td>\n",
       "      <td>Summer</td>\n",
       "      <td>0</td>\n",
       "      <td>0</td>\n",
       "      <td>Clear + Few clouds</td>\n",
       "      <td>23.78</td>\n",
       "      <td>27.275</td>\n",
       "      <td>64</td>\n",
       "      <td>7.0015</td>\n",
       "    </tr>\n",
       "    <tr>\n",
       "      <td>2</td>\n",
       "      <td>3/6/2011 20:00</td>\n",
       "      <td>Spring</td>\n",
       "      <td>0</td>\n",
       "      <td>0</td>\n",
       "      <td>Light Snow, Light Rain</td>\n",
       "      <td>11.48</td>\n",
       "      <td>12.120</td>\n",
       "      <td>100</td>\n",
       "      <td>27.9993</td>\n",
       "    </tr>\n",
       "    <tr>\n",
       "      <td>3</td>\n",
       "      <td>10/13/2011 11:00</td>\n",
       "      <td>Winter</td>\n",
       "      <td>0</td>\n",
       "      <td>1</td>\n",
       "      <td>Mist + Cloudy</td>\n",
       "      <td>25.42</td>\n",
       "      <td>28.790</td>\n",
       "      <td>83</td>\n",
       "      <td>0.0000</td>\n",
       "    </tr>\n",
       "    <tr>\n",
       "      <td>4</td>\n",
       "      <td>6/2/2012 12:00</td>\n",
       "      <td>Summer</td>\n",
       "      <td>0</td>\n",
       "      <td>0</td>\n",
       "      <td>Clear + Few clouds</td>\n",
       "      <td>25.42</td>\n",
       "      <td>31.060</td>\n",
       "      <td>43</td>\n",
       "      <td>23.9994</td>\n",
       "    </tr>\n",
       "  </tbody>\n",
       "</table>\n",
       "</div>"
      ],
      "text/plain": [
       "           datetime  season  holiday  workingday                  weather  \\\n",
       "0   5/10/2012 11:00  Summer        0           1       Clear + Few clouds   \n",
       "1     6/9/2012 7:00  Summer        0           0       Clear + Few clouds   \n",
       "2    3/6/2011 20:00  Spring        0           0   Light Snow, Light Rain   \n",
       "3  10/13/2011 11:00  Winter        0           1           Mist + Cloudy    \n",
       "4    6/2/2012 12:00  Summer        0           0       Clear + Few clouds   \n",
       "\n",
       "    temp   atemp  humidity  windspeed  \n",
       "0  21.32  25.000        48    35.0008  \n",
       "1  23.78  27.275        64     7.0015  \n",
       "2  11.48  12.120       100    27.9993  \n",
       "3  25.42  28.790        83     0.0000  \n",
       "4  25.42  31.060        43    23.9994  "
      ]
     },
     "execution_count": 159,
     "metadata": {},
     "output_type": "execute_result"
    }
   ],
   "source": [
    "#Reading the csv files (train and test datasets)\n",
    "train=pd.read_csv(\"train.csv\")\n",
    "train_label = pd.read_csv(\"train_label.csv\", header=None)\n",
    "test = pd.read_csv(\"test.csv\")\n",
    "test_label = pd.read_csv(\"test_label.csv\", header=None)\n",
    "test.head()"
   ]
  },
  {
   "cell_type": "code",
   "execution_count": 160,
   "metadata": {},
   "outputs": [
    {
     "name": "stdout",
     "output_type": "stream",
     "text": [
      "<class 'pandas.core.frame.DataFrame'>\n",
      "RangeIndex: 8708 entries, 0 to 8707\n",
      "Data columns (total 9 columns):\n",
      "datetime      8708 non-null object\n",
      "season        8708 non-null object\n",
      "holiday       8708 non-null int64\n",
      "workingday    8708 non-null int64\n",
      "weather       8708 non-null object\n",
      "temp          8708 non-null float64\n",
      "atemp         8708 non-null float64\n",
      "humidity      8708 non-null int64\n",
      "windspeed     8708 non-null float64\n",
      "dtypes: float64(3), int64(3), object(3)\n",
      "memory usage: 612.4+ KB\n"
     ]
    }
   ],
   "source": [
    "train.info()"
   ]
  },
  {
   "cell_type": "code",
   "execution_count": 161,
   "metadata": {},
   "outputs": [
    {
     "data": {
      "text/html": [
       "<div>\n",
       "<style scoped>\n",
       "    .dataframe tbody tr th:only-of-type {\n",
       "        vertical-align: middle;\n",
       "    }\n",
       "\n",
       "    .dataframe tbody tr th {\n",
       "        vertical-align: top;\n",
       "    }\n",
       "\n",
       "    .dataframe thead th {\n",
       "        text-align: right;\n",
       "    }\n",
       "</style>\n",
       "<table border=\"1\" class=\"dataframe\">\n",
       "  <thead>\n",
       "    <tr style=\"text-align: right;\">\n",
       "      <th></th>\n",
       "      <th>datetime</th>\n",
       "      <th>season</th>\n",
       "      <th>holiday</th>\n",
       "      <th>workingday</th>\n",
       "      <th>weather</th>\n",
       "      <th>temp</th>\n",
       "      <th>atemp</th>\n",
       "      <th>humidity</th>\n",
       "      <th>windspeed</th>\n",
       "    </tr>\n",
       "  </thead>\n",
       "  <tbody>\n",
       "    <tr>\n",
       "      <td>0</td>\n",
       "      <td>2012-05-02 19:00:00</td>\n",
       "      <td>Summer</td>\n",
       "      <td>0</td>\n",
       "      <td>1</td>\n",
       "      <td>Clear + Few clouds</td>\n",
       "      <td>22.14</td>\n",
       "      <td>25.760</td>\n",
       "      <td>77</td>\n",
       "      <td>16.9979</td>\n",
       "    </tr>\n",
       "    <tr>\n",
       "      <td>1</td>\n",
       "      <td>2012-09-05 04:00:00</td>\n",
       "      <td>Fall</td>\n",
       "      <td>0</td>\n",
       "      <td>1</td>\n",
       "      <td>Clear + Few clouds</td>\n",
       "      <td>28.70</td>\n",
       "      <td>33.335</td>\n",
       "      <td>79</td>\n",
       "      <td>19.0012</td>\n",
       "    </tr>\n",
       "    <tr>\n",
       "      <td>2</td>\n",
       "      <td>2011-01-13 09:00:00</td>\n",
       "      <td>Spring</td>\n",
       "      <td>0</td>\n",
       "      <td>1</td>\n",
       "      <td>Clear + Few clouds</td>\n",
       "      <td>5.74</td>\n",
       "      <td>6.060</td>\n",
       "      <td>50</td>\n",
       "      <td>22.0028</td>\n",
       "    </tr>\n",
       "    <tr>\n",
       "      <td>3</td>\n",
       "      <td>2011-11-18 16:00:00</td>\n",
       "      <td>Winter</td>\n",
       "      <td>0</td>\n",
       "      <td>1</td>\n",
       "      <td>Clear + Few clouds</td>\n",
       "      <td>13.94</td>\n",
       "      <td>16.665</td>\n",
       "      <td>29</td>\n",
       "      <td>8.9981</td>\n",
       "    </tr>\n",
       "    <tr>\n",
       "      <td>4</td>\n",
       "      <td>2011-09-13 13:00:00</td>\n",
       "      <td>Fall</td>\n",
       "      <td>0</td>\n",
       "      <td>1</td>\n",
       "      <td>Clear + Few clouds</td>\n",
       "      <td>30.34</td>\n",
       "      <td>33.335</td>\n",
       "      <td>51</td>\n",
       "      <td>19.0012</td>\n",
       "    </tr>\n",
       "  </tbody>\n",
       "</table>\n",
       "</div>"
      ],
      "text/plain": [
       "             datetime  season  holiday  workingday              weather  \\\n",
       "0 2012-05-02 19:00:00  Summer        0           1   Clear + Few clouds   \n",
       "1 2012-09-05 04:00:00    Fall        0           1   Clear + Few clouds   \n",
       "2 2011-01-13 09:00:00  Spring        0           1   Clear + Few clouds   \n",
       "3 2011-11-18 16:00:00  Winter        0           1   Clear + Few clouds   \n",
       "4 2011-09-13 13:00:00    Fall        0           1   Clear + Few clouds   \n",
       "\n",
       "    temp   atemp  humidity  windspeed  \n",
       "0  22.14  25.760        77    16.9979  \n",
       "1  28.70  33.335        79    19.0012  \n",
       "2   5.74   6.060        50    22.0028  \n",
       "3  13.94  16.665        29     8.9981  \n",
       "4  30.34  33.335        51    19.0012  "
      ]
     },
     "execution_count": 161,
     "metadata": {},
     "output_type": "execute_result"
    }
   ],
   "source": [
    "# Convert argument to datetime\n",
    "train['datetime']=pd.to_datetime(train['datetime'])\n",
    "test['datetime']=pd.to_datetime(test['datetime'])\n",
    "train.head()"
   ]
  },
  {
   "cell_type": "code",
   "execution_count": 162,
   "metadata": {},
   "outputs": [
    {
     "data": {
      "text/html": [
       "<div>\n",
       "<style scoped>\n",
       "    .dataframe tbody tr th:only-of-type {\n",
       "        vertical-align: middle;\n",
       "    }\n",
       "\n",
       "    .dataframe tbody tr th {\n",
       "        vertical-align: top;\n",
       "    }\n",
       "\n",
       "    .dataframe thead th {\n",
       "        text-align: right;\n",
       "    }\n",
       "</style>\n",
       "<table border=\"1\" class=\"dataframe\">\n",
       "  <thead>\n",
       "    <tr style=\"text-align: right;\">\n",
       "      <th></th>\n",
       "      <th>datetime</th>\n",
       "      <th>season</th>\n",
       "      <th>holiday</th>\n",
       "      <th>workingday</th>\n",
       "      <th>weather</th>\n",
       "      <th>temp</th>\n",
       "      <th>atemp</th>\n",
       "      <th>humidity</th>\n",
       "      <th>windspeed</th>\n",
       "      <th>Year</th>\n",
       "      <th>Month</th>\n",
       "      <th>Day</th>\n",
       "      <th>Hour</th>\n",
       "    </tr>\n",
       "  </thead>\n",
       "  <tbody>\n",
       "    <tr>\n",
       "      <td>0</td>\n",
       "      <td>2012-05-02 19:00:00</td>\n",
       "      <td>Summer</td>\n",
       "      <td>0</td>\n",
       "      <td>1</td>\n",
       "      <td>Clear + Few clouds</td>\n",
       "      <td>22.14</td>\n",
       "      <td>25.760</td>\n",
       "      <td>77</td>\n",
       "      <td>16.9979</td>\n",
       "      <td>2012</td>\n",
       "      <td>5</td>\n",
       "      <td>2</td>\n",
       "      <td>19</td>\n",
       "    </tr>\n",
       "    <tr>\n",
       "      <td>1</td>\n",
       "      <td>2012-09-05 04:00:00</td>\n",
       "      <td>Fall</td>\n",
       "      <td>0</td>\n",
       "      <td>1</td>\n",
       "      <td>Clear + Few clouds</td>\n",
       "      <td>28.70</td>\n",
       "      <td>33.335</td>\n",
       "      <td>79</td>\n",
       "      <td>19.0012</td>\n",
       "      <td>2012</td>\n",
       "      <td>9</td>\n",
       "      <td>5</td>\n",
       "      <td>4</td>\n",
       "    </tr>\n",
       "    <tr>\n",
       "      <td>2</td>\n",
       "      <td>2011-01-13 09:00:00</td>\n",
       "      <td>Spring</td>\n",
       "      <td>0</td>\n",
       "      <td>1</td>\n",
       "      <td>Clear + Few clouds</td>\n",
       "      <td>5.74</td>\n",
       "      <td>6.060</td>\n",
       "      <td>50</td>\n",
       "      <td>22.0028</td>\n",
       "      <td>2011</td>\n",
       "      <td>1</td>\n",
       "      <td>13</td>\n",
       "      <td>9</td>\n",
       "    </tr>\n",
       "    <tr>\n",
       "      <td>3</td>\n",
       "      <td>2011-11-18 16:00:00</td>\n",
       "      <td>Winter</td>\n",
       "      <td>0</td>\n",
       "      <td>1</td>\n",
       "      <td>Clear + Few clouds</td>\n",
       "      <td>13.94</td>\n",
       "      <td>16.665</td>\n",
       "      <td>29</td>\n",
       "      <td>8.9981</td>\n",
       "      <td>2011</td>\n",
       "      <td>11</td>\n",
       "      <td>18</td>\n",
       "      <td>16</td>\n",
       "    </tr>\n",
       "    <tr>\n",
       "      <td>4</td>\n",
       "      <td>2011-09-13 13:00:00</td>\n",
       "      <td>Fall</td>\n",
       "      <td>0</td>\n",
       "      <td>1</td>\n",
       "      <td>Clear + Few clouds</td>\n",
       "      <td>30.34</td>\n",
       "      <td>33.335</td>\n",
       "      <td>51</td>\n",
       "      <td>19.0012</td>\n",
       "      <td>2011</td>\n",
       "      <td>9</td>\n",
       "      <td>13</td>\n",
       "      <td>13</td>\n",
       "    </tr>\n",
       "  </tbody>\n",
       "</table>\n",
       "</div>"
      ],
      "text/plain": [
       "             datetime  season  holiday  workingday              weather  \\\n",
       "0 2012-05-02 19:00:00  Summer        0           1   Clear + Few clouds   \n",
       "1 2012-09-05 04:00:00    Fall        0           1   Clear + Few clouds   \n",
       "2 2011-01-13 09:00:00  Spring        0           1   Clear + Few clouds   \n",
       "3 2011-11-18 16:00:00  Winter        0           1   Clear + Few clouds   \n",
       "4 2011-09-13 13:00:00    Fall        0           1   Clear + Few clouds   \n",
       "\n",
       "    temp   atemp  humidity  windspeed  Year  Month  Day  Hour  \n",
       "0  22.14  25.760        77    16.9979  2012      5    2    19  \n",
       "1  28.70  33.335        79    19.0012  2012      9    5     4  \n",
       "2   5.74   6.060        50    22.0028  2011      1   13     9  \n",
       "3  13.94  16.665        29     8.9981  2011     11   18    16  \n",
       "4  30.34  33.335        51    19.0012  2011      9   13    13  "
      ]
     },
     "execution_count": 162,
     "metadata": {},
     "output_type": "execute_result"
    }
   ],
   "source": [
    "# For train dataset\n",
    "# Extracting the needed information from the datetime column \n",
    "# Extracting the Year, Month, Day and Hour\n",
    "train['Year'] = pd.DatetimeIndex(train['datetime']).year\n",
    "train['Month'] = pd.DatetimeIndex(train['datetime']).month\n",
    "train['Day'] = pd.DatetimeIndex(train['datetime']).day\n",
    "train['Hour'] = pd.DatetimeIndex(train['datetime']).hour\n",
    "train.head()\n"
   ]
  },
  {
   "cell_type": "code",
   "execution_count": 163,
   "metadata": {},
   "outputs": [
    {
     "data": {
      "text/html": [
       "<div>\n",
       "<style scoped>\n",
       "    .dataframe tbody tr th:only-of-type {\n",
       "        vertical-align: middle;\n",
       "    }\n",
       "\n",
       "    .dataframe tbody tr th {\n",
       "        vertical-align: top;\n",
       "    }\n",
       "\n",
       "    .dataframe thead th {\n",
       "        text-align: right;\n",
       "    }\n",
       "</style>\n",
       "<table border=\"1\" class=\"dataframe\">\n",
       "  <thead>\n",
       "    <tr style=\"text-align: right;\">\n",
       "      <th></th>\n",
       "      <th>datetime</th>\n",
       "      <th>season</th>\n",
       "      <th>holiday</th>\n",
       "      <th>workingday</th>\n",
       "      <th>weather</th>\n",
       "      <th>temp</th>\n",
       "      <th>atemp</th>\n",
       "      <th>humidity</th>\n",
       "      <th>windspeed</th>\n",
       "      <th>Year</th>\n",
       "      <th>Month</th>\n",
       "      <th>Day</th>\n",
       "      <th>Hour</th>\n",
       "    </tr>\n",
       "  </thead>\n",
       "  <tbody>\n",
       "    <tr>\n",
       "      <td>0</td>\n",
       "      <td>2012-05-10 11:00:00</td>\n",
       "      <td>Summer</td>\n",
       "      <td>0</td>\n",
       "      <td>1</td>\n",
       "      <td>Clear + Few clouds</td>\n",
       "      <td>21.32</td>\n",
       "      <td>25.000</td>\n",
       "      <td>48</td>\n",
       "      <td>35.0008</td>\n",
       "      <td>2012</td>\n",
       "      <td>5</td>\n",
       "      <td>10</td>\n",
       "      <td>11</td>\n",
       "    </tr>\n",
       "    <tr>\n",
       "      <td>1</td>\n",
       "      <td>2012-06-09 07:00:00</td>\n",
       "      <td>Summer</td>\n",
       "      <td>0</td>\n",
       "      <td>0</td>\n",
       "      <td>Clear + Few clouds</td>\n",
       "      <td>23.78</td>\n",
       "      <td>27.275</td>\n",
       "      <td>64</td>\n",
       "      <td>7.0015</td>\n",
       "      <td>2012</td>\n",
       "      <td>6</td>\n",
       "      <td>9</td>\n",
       "      <td>7</td>\n",
       "    </tr>\n",
       "    <tr>\n",
       "      <td>2</td>\n",
       "      <td>2011-03-06 20:00:00</td>\n",
       "      <td>Spring</td>\n",
       "      <td>0</td>\n",
       "      <td>0</td>\n",
       "      <td>Light Snow, Light Rain</td>\n",
       "      <td>11.48</td>\n",
       "      <td>12.120</td>\n",
       "      <td>100</td>\n",
       "      <td>27.9993</td>\n",
       "      <td>2011</td>\n",
       "      <td>3</td>\n",
       "      <td>6</td>\n",
       "      <td>20</td>\n",
       "    </tr>\n",
       "    <tr>\n",
       "      <td>3</td>\n",
       "      <td>2011-10-13 11:00:00</td>\n",
       "      <td>Winter</td>\n",
       "      <td>0</td>\n",
       "      <td>1</td>\n",
       "      <td>Mist + Cloudy</td>\n",
       "      <td>25.42</td>\n",
       "      <td>28.790</td>\n",
       "      <td>83</td>\n",
       "      <td>0.0000</td>\n",
       "      <td>2011</td>\n",
       "      <td>10</td>\n",
       "      <td>13</td>\n",
       "      <td>11</td>\n",
       "    </tr>\n",
       "    <tr>\n",
       "      <td>4</td>\n",
       "      <td>2012-06-02 12:00:00</td>\n",
       "      <td>Summer</td>\n",
       "      <td>0</td>\n",
       "      <td>0</td>\n",
       "      <td>Clear + Few clouds</td>\n",
       "      <td>25.42</td>\n",
       "      <td>31.060</td>\n",
       "      <td>43</td>\n",
       "      <td>23.9994</td>\n",
       "      <td>2012</td>\n",
       "      <td>6</td>\n",
       "      <td>2</td>\n",
       "      <td>12</td>\n",
       "    </tr>\n",
       "  </tbody>\n",
       "</table>\n",
       "</div>"
      ],
      "text/plain": [
       "             datetime  season  holiday  workingday                  weather  \\\n",
       "0 2012-05-10 11:00:00  Summer        0           1       Clear + Few clouds   \n",
       "1 2012-06-09 07:00:00  Summer        0           0       Clear + Few clouds   \n",
       "2 2011-03-06 20:00:00  Spring        0           0   Light Snow, Light Rain   \n",
       "3 2011-10-13 11:00:00  Winter        0           1           Mist + Cloudy    \n",
       "4 2012-06-02 12:00:00  Summer        0           0       Clear + Few clouds   \n",
       "\n",
       "    temp   atemp  humidity  windspeed  Year  Month  Day  Hour  \n",
       "0  21.32  25.000        48    35.0008  2012      5   10    11  \n",
       "1  23.78  27.275        64     7.0015  2012      6    9     7  \n",
       "2  11.48  12.120       100    27.9993  2011      3    6    20  \n",
       "3  25.42  28.790        83     0.0000  2011     10   13    11  \n",
       "4  25.42  31.060        43    23.9994  2012      6    2    12  "
      ]
     },
     "execution_count": 163,
     "metadata": {},
     "output_type": "execute_result"
    }
   ],
   "source": [
    "# For test dataset\n",
    "# Extracting the needed information from the datetime column \n",
    "# Extracting the Year, Month, Day and Hour\n",
    "test['Year'] = pd.DatetimeIndex(test['datetime']).year\n",
    "test['Month'] = pd.DatetimeIndex(test['datetime']).month\n",
    "test['Day'] = pd.DatetimeIndex(test['datetime']).day\n",
    "test['Hour'] = pd.DatetimeIndex(test['datetime']).hour\n",
    "test.head()"
   ]
  },
  {
   "cell_type": "code",
   "execution_count": 164,
   "metadata": {},
   "outputs": [
    {
     "data": {
      "text/html": [
       "<div>\n",
       "<style scoped>\n",
       "    .dataframe tbody tr th:only-of-type {\n",
       "        vertical-align: middle;\n",
       "    }\n",
       "\n",
       "    .dataframe tbody tr th {\n",
       "        vertical-align: top;\n",
       "    }\n",
       "\n",
       "    .dataframe thead th {\n",
       "        text-align: right;\n",
       "    }\n",
       "</style>\n",
       "<table border=\"1\" class=\"dataframe\">\n",
       "  <thead>\n",
       "    <tr style=\"text-align: right;\">\n",
       "      <th></th>\n",
       "      <th>datetime</th>\n",
       "      <th>season</th>\n",
       "      <th>holiday</th>\n",
       "      <th>workingday</th>\n",
       "      <th>weather</th>\n",
       "      <th>temp</th>\n",
       "      <th>atemp</th>\n",
       "      <th>humidity</th>\n",
       "      <th>windspeed</th>\n",
       "      <th>Year</th>\n",
       "      <th>Month</th>\n",
       "      <th>Day</th>\n",
       "      <th>Hour</th>\n",
       "      <th>Bookings</th>\n",
       "    </tr>\n",
       "  </thead>\n",
       "  <tbody>\n",
       "    <tr>\n",
       "      <td>0</td>\n",
       "      <td>2012-05-02 19:00:00</td>\n",
       "      <td>Summer</td>\n",
       "      <td>0</td>\n",
       "      <td>1</td>\n",
       "      <td>Clear + Few clouds</td>\n",
       "      <td>22.14</td>\n",
       "      <td>25.760</td>\n",
       "      <td>77</td>\n",
       "      <td>16.9979</td>\n",
       "      <td>2012</td>\n",
       "      <td>5</td>\n",
       "      <td>2</td>\n",
       "      <td>19</td>\n",
       "      <td>504</td>\n",
       "    </tr>\n",
       "    <tr>\n",
       "      <td>1</td>\n",
       "      <td>2012-09-05 04:00:00</td>\n",
       "      <td>Fall</td>\n",
       "      <td>0</td>\n",
       "      <td>1</td>\n",
       "      <td>Clear + Few clouds</td>\n",
       "      <td>28.70</td>\n",
       "      <td>33.335</td>\n",
       "      <td>79</td>\n",
       "      <td>19.0012</td>\n",
       "      <td>2012</td>\n",
       "      <td>9</td>\n",
       "      <td>5</td>\n",
       "      <td>4</td>\n",
       "      <td>5</td>\n",
       "    </tr>\n",
       "    <tr>\n",
       "      <td>2</td>\n",
       "      <td>2011-01-13 09:00:00</td>\n",
       "      <td>Spring</td>\n",
       "      <td>0</td>\n",
       "      <td>1</td>\n",
       "      <td>Clear + Few clouds</td>\n",
       "      <td>5.74</td>\n",
       "      <td>6.060</td>\n",
       "      <td>50</td>\n",
       "      <td>22.0028</td>\n",
       "      <td>2011</td>\n",
       "      <td>1</td>\n",
       "      <td>13</td>\n",
       "      <td>9</td>\n",
       "      <td>139</td>\n",
       "    </tr>\n",
       "    <tr>\n",
       "      <td>3</td>\n",
       "      <td>2011-11-18 16:00:00</td>\n",
       "      <td>Winter</td>\n",
       "      <td>0</td>\n",
       "      <td>1</td>\n",
       "      <td>Clear + Few clouds</td>\n",
       "      <td>13.94</td>\n",
       "      <td>16.665</td>\n",
       "      <td>29</td>\n",
       "      <td>8.9981</td>\n",
       "      <td>2011</td>\n",
       "      <td>11</td>\n",
       "      <td>18</td>\n",
       "      <td>16</td>\n",
       "      <td>209</td>\n",
       "    </tr>\n",
       "    <tr>\n",
       "      <td>4</td>\n",
       "      <td>2011-09-13 13:00:00</td>\n",
       "      <td>Fall</td>\n",
       "      <td>0</td>\n",
       "      <td>1</td>\n",
       "      <td>Clear + Few clouds</td>\n",
       "      <td>30.34</td>\n",
       "      <td>33.335</td>\n",
       "      <td>51</td>\n",
       "      <td>19.0012</td>\n",
       "      <td>2011</td>\n",
       "      <td>9</td>\n",
       "      <td>13</td>\n",
       "      <td>13</td>\n",
       "      <td>184</td>\n",
       "    </tr>\n",
       "  </tbody>\n",
       "</table>\n",
       "</div>"
      ],
      "text/plain": [
       "             datetime  season  holiday  workingday              weather  \\\n",
       "0 2012-05-02 19:00:00  Summer        0           1   Clear + Few clouds   \n",
       "1 2012-09-05 04:00:00    Fall        0           1   Clear + Few clouds   \n",
       "2 2011-01-13 09:00:00  Spring        0           1   Clear + Few clouds   \n",
       "3 2011-11-18 16:00:00  Winter        0           1   Clear + Few clouds   \n",
       "4 2011-09-13 13:00:00    Fall        0           1   Clear + Few clouds   \n",
       "\n",
       "    temp   atemp  humidity  windspeed  Year  Month  Day  Hour  Bookings  \n",
       "0  22.14  25.760        77    16.9979  2012      5    2    19       504  \n",
       "1  28.70  33.335        79    19.0012  2012      9    5     4         5  \n",
       "2   5.74   6.060        50    22.0028  2011      1   13     9       139  \n",
       "3  13.94  16.665        29     8.9981  2011     11   18    16       209  \n",
       "4  30.34  33.335        51    19.0012  2011      9   13    13       184  "
      ]
     },
     "execution_count": 164,
     "metadata": {},
     "output_type": "execute_result"
    }
   ],
   "source": [
    "# Added the target column to the main dataset by creating a column name as 'Bookings'\n",
    "train['Bookings']=train_label\n",
    "\n",
    "test['Bookings']=test_label\n",
    "\n",
    "train.head()"
   ]
  },
  {
   "cell_type": "code",
   "execution_count": 165,
   "metadata": {},
   "outputs": [
    {
     "data": {
      "text/plain": [
       "array(['Summer', 'Fall', 'Spring', 'Winter'], dtype=object)"
      ]
     },
     "execution_count": 165,
     "metadata": {},
     "output_type": "execute_result"
    }
   ],
   "source": [
    "# To check the different values in that particular column\n",
    "train['season'].unique()"
   ]
  },
  {
   "cell_type": "code",
   "execution_count": 166,
   "metadata": {},
   "outputs": [
    {
     "data": {
      "text/plain": [
       "Summer    2197\n",
       "Fall      2189\n",
       "Winter    2186\n",
       "Spring    2136\n",
       "Name: season, dtype: int64"
      ]
     },
     "execution_count": 166,
     "metadata": {},
     "output_type": "execute_result"
    }
   ],
   "source": [
    "train['season'].value_counts()"
   ]
  },
  {
   "cell_type": "code",
   "execution_count": 167,
   "metadata": {},
   "outputs": [
    {
     "data": {
      "text/plain": [
       "array([' Clear + Few clouds', ' Light Snow, Light Rain',\n",
       "       ' Mist + Cloudy ', ' Heavy Rain + Thunderstorm '], dtype=object)"
      ]
     },
     "execution_count": 167,
     "metadata": {},
     "output_type": "execute_result"
    }
   ],
   "source": [
    "# To check the different values in that particular column\n",
    "train['weather'].unique()"
   ]
  },
  {
   "cell_type": "code",
   "execution_count": 168,
   "metadata": {},
   "outputs": [
    {
     "data": {
      "text/plain": [
       " Clear + Few clouds            5753\n",
       " Mist + Cloudy                 2276\n",
       " Light Snow, Light Rain         678\n",
       " Heavy Rain + Thunderstorm        1\n",
       "Name: weather, dtype: int64"
      ]
     },
     "execution_count": 168,
     "metadata": {},
     "output_type": "execute_result"
    }
   ],
   "source": [
    "train['weather'].value_counts()"
   ]
  },
  {
   "cell_type": "code",
   "execution_count": 169,
   "metadata": {},
   "outputs": [],
   "source": [
    "#For converting categorical data into numerical number in the train dataset\n",
    "labelencoder= LabelEncoder() #initializing an object of class LabelEncoder\n",
    "train['season']= labelencoder.fit_transform(train['season']) #fitting and transforming the desired categorical column.\n",
    "train['weather']= labelencoder.fit_transform(train['weather'])\n",
    "\n",
    "#For converting categorical data into numerical number in the test dataset\n",
    "test['season']= labelencoder.fit_transform(test['season']) #fitting and transforming the desired categorical column.\n",
    "test['weather']= labelencoder.fit_transform(test['weather'])"
   ]
  },
  {
   "cell_type": "code",
   "execution_count": 170,
   "metadata": {},
   "outputs": [
    {
     "data": {
      "text/html": [
       "<div>\n",
       "<style scoped>\n",
       "    .dataframe tbody tr th:only-of-type {\n",
       "        vertical-align: middle;\n",
       "    }\n",
       "\n",
       "    .dataframe tbody tr th {\n",
       "        vertical-align: top;\n",
       "    }\n",
       "\n",
       "    .dataframe thead th {\n",
       "        text-align: right;\n",
       "    }\n",
       "</style>\n",
       "<table border=\"1\" class=\"dataframe\">\n",
       "  <thead>\n",
       "    <tr style=\"text-align: right;\">\n",
       "      <th></th>\n",
       "      <th>season</th>\n",
       "      <th>holiday</th>\n",
       "      <th>workingday</th>\n",
       "      <th>weather</th>\n",
       "      <th>temp</th>\n",
       "      <th>atemp</th>\n",
       "      <th>humidity</th>\n",
       "      <th>windspeed</th>\n",
       "      <th>Year</th>\n",
       "      <th>Month</th>\n",
       "      <th>Day</th>\n",
       "      <th>Hour</th>\n",
       "      <th>Bookings</th>\n",
       "    </tr>\n",
       "  </thead>\n",
       "  <tbody>\n",
       "    <tr>\n",
       "      <td>0</td>\n",
       "      <td>2</td>\n",
       "      <td>0</td>\n",
       "      <td>1</td>\n",
       "      <td>0</td>\n",
       "      <td>22.14</td>\n",
       "      <td>25.760</td>\n",
       "      <td>77</td>\n",
       "      <td>16.9979</td>\n",
       "      <td>2012</td>\n",
       "      <td>5</td>\n",
       "      <td>2</td>\n",
       "      <td>19</td>\n",
       "      <td>504</td>\n",
       "    </tr>\n",
       "    <tr>\n",
       "      <td>1</td>\n",
       "      <td>0</td>\n",
       "      <td>0</td>\n",
       "      <td>1</td>\n",
       "      <td>0</td>\n",
       "      <td>28.70</td>\n",
       "      <td>33.335</td>\n",
       "      <td>79</td>\n",
       "      <td>19.0012</td>\n",
       "      <td>2012</td>\n",
       "      <td>9</td>\n",
       "      <td>5</td>\n",
       "      <td>4</td>\n",
       "      <td>5</td>\n",
       "    </tr>\n",
       "    <tr>\n",
       "      <td>2</td>\n",
       "      <td>1</td>\n",
       "      <td>0</td>\n",
       "      <td>1</td>\n",
       "      <td>0</td>\n",
       "      <td>5.74</td>\n",
       "      <td>6.060</td>\n",
       "      <td>50</td>\n",
       "      <td>22.0028</td>\n",
       "      <td>2011</td>\n",
       "      <td>1</td>\n",
       "      <td>13</td>\n",
       "      <td>9</td>\n",
       "      <td>139</td>\n",
       "    </tr>\n",
       "    <tr>\n",
       "      <td>3</td>\n",
       "      <td>3</td>\n",
       "      <td>0</td>\n",
       "      <td>1</td>\n",
       "      <td>0</td>\n",
       "      <td>13.94</td>\n",
       "      <td>16.665</td>\n",
       "      <td>29</td>\n",
       "      <td>8.9981</td>\n",
       "      <td>2011</td>\n",
       "      <td>11</td>\n",
       "      <td>18</td>\n",
       "      <td>16</td>\n",
       "      <td>209</td>\n",
       "    </tr>\n",
       "    <tr>\n",
       "      <td>4</td>\n",
       "      <td>0</td>\n",
       "      <td>0</td>\n",
       "      <td>1</td>\n",
       "      <td>0</td>\n",
       "      <td>30.34</td>\n",
       "      <td>33.335</td>\n",
       "      <td>51</td>\n",
       "      <td>19.0012</td>\n",
       "      <td>2011</td>\n",
       "      <td>9</td>\n",
       "      <td>13</td>\n",
       "      <td>13</td>\n",
       "      <td>184</td>\n",
       "    </tr>\n",
       "  </tbody>\n",
       "</table>\n",
       "</div>"
      ],
      "text/plain": [
       "   season  holiday  workingday  weather   temp   atemp  humidity  windspeed  \\\n",
       "0       2        0           1        0  22.14  25.760        77    16.9979   \n",
       "1       0        0           1        0  28.70  33.335        79    19.0012   \n",
       "2       1        0           1        0   5.74   6.060        50    22.0028   \n",
       "3       3        0           1        0  13.94  16.665        29     8.9981   \n",
       "4       0        0           1        0  30.34  33.335        51    19.0012   \n",
       "\n",
       "   Year  Month  Day  Hour  Bookings  \n",
       "0  2012      5    2    19       504  \n",
       "1  2012      9    5     4         5  \n",
       "2  2011      1   13     9       139  \n",
       "3  2011     11   18    16       209  \n",
       "4  2011      9   13    13       184  "
      ]
     },
     "execution_count": 170,
     "metadata": {},
     "output_type": "execute_result"
    }
   ],
   "source": [
    "# Dropping the datetime column since already we extracted the data from that column (from train dataset)\n",
    "train=train.drop('datetime',axis=1)\n",
    "train.head()"
   ]
  },
  {
   "cell_type": "code",
   "execution_count": 171,
   "metadata": {},
   "outputs": [
    {
     "data": {
      "text/html": [
       "<div>\n",
       "<style scoped>\n",
       "    .dataframe tbody tr th:only-of-type {\n",
       "        vertical-align: middle;\n",
       "    }\n",
       "\n",
       "    .dataframe tbody tr th {\n",
       "        vertical-align: top;\n",
       "    }\n",
       "\n",
       "    .dataframe thead th {\n",
       "        text-align: right;\n",
       "    }\n",
       "</style>\n",
       "<table border=\"1\" class=\"dataframe\">\n",
       "  <thead>\n",
       "    <tr style=\"text-align: right;\">\n",
       "      <th></th>\n",
       "      <th>season</th>\n",
       "      <th>holiday</th>\n",
       "      <th>workingday</th>\n",
       "      <th>weather</th>\n",
       "      <th>temp</th>\n",
       "      <th>atemp</th>\n",
       "      <th>humidity</th>\n",
       "      <th>windspeed</th>\n",
       "      <th>Year</th>\n",
       "      <th>Month</th>\n",
       "      <th>Day</th>\n",
       "      <th>Hour</th>\n",
       "      <th>Bookings</th>\n",
       "    </tr>\n",
       "  </thead>\n",
       "  <tbody>\n",
       "    <tr>\n",
       "      <td>0</td>\n",
       "      <td>2</td>\n",
       "      <td>0</td>\n",
       "      <td>1</td>\n",
       "      <td>0</td>\n",
       "      <td>21.32</td>\n",
       "      <td>25.000</td>\n",
       "      <td>48</td>\n",
       "      <td>35.0008</td>\n",
       "      <td>2012</td>\n",
       "      <td>5</td>\n",
       "      <td>10</td>\n",
       "      <td>11</td>\n",
       "      <td>256</td>\n",
       "    </tr>\n",
       "    <tr>\n",
       "      <td>1</td>\n",
       "      <td>2</td>\n",
       "      <td>0</td>\n",
       "      <td>0</td>\n",
       "      <td>0</td>\n",
       "      <td>23.78</td>\n",
       "      <td>27.275</td>\n",
       "      <td>64</td>\n",
       "      <td>7.0015</td>\n",
       "      <td>2012</td>\n",
       "      <td>6</td>\n",
       "      <td>9</td>\n",
       "      <td>7</td>\n",
       "      <td>87</td>\n",
       "    </tr>\n",
       "    <tr>\n",
       "      <td>2</td>\n",
       "      <td>1</td>\n",
       "      <td>0</td>\n",
       "      <td>0</td>\n",
       "      <td>1</td>\n",
       "      <td>11.48</td>\n",
       "      <td>12.120</td>\n",
       "      <td>100</td>\n",
       "      <td>27.9993</td>\n",
       "      <td>2011</td>\n",
       "      <td>3</td>\n",
       "      <td>6</td>\n",
       "      <td>20</td>\n",
       "      <td>11</td>\n",
       "    </tr>\n",
       "    <tr>\n",
       "      <td>3</td>\n",
       "      <td>3</td>\n",
       "      <td>0</td>\n",
       "      <td>1</td>\n",
       "      <td>2</td>\n",
       "      <td>25.42</td>\n",
       "      <td>28.790</td>\n",
       "      <td>83</td>\n",
       "      <td>0.0000</td>\n",
       "      <td>2011</td>\n",
       "      <td>10</td>\n",
       "      <td>13</td>\n",
       "      <td>11</td>\n",
       "      <td>84</td>\n",
       "    </tr>\n",
       "    <tr>\n",
       "      <td>4</td>\n",
       "      <td>2</td>\n",
       "      <td>0</td>\n",
       "      <td>0</td>\n",
       "      <td>0</td>\n",
       "      <td>25.42</td>\n",
       "      <td>31.060</td>\n",
       "      <td>43</td>\n",
       "      <td>23.9994</td>\n",
       "      <td>2012</td>\n",
       "      <td>6</td>\n",
       "      <td>2</td>\n",
       "      <td>12</td>\n",
       "      <td>668</td>\n",
       "    </tr>\n",
       "  </tbody>\n",
       "</table>\n",
       "</div>"
      ],
      "text/plain": [
       "   season  holiday  workingday  weather   temp   atemp  humidity  windspeed  \\\n",
       "0       2        0           1        0  21.32  25.000        48    35.0008   \n",
       "1       2        0           0        0  23.78  27.275        64     7.0015   \n",
       "2       1        0           0        1  11.48  12.120       100    27.9993   \n",
       "3       3        0           1        2  25.42  28.790        83     0.0000   \n",
       "4       2        0           0        0  25.42  31.060        43    23.9994   \n",
       "\n",
       "   Year  Month  Day  Hour  Bookings  \n",
       "0  2012      5   10    11       256  \n",
       "1  2012      6    9     7        87  \n",
       "2  2011      3    6    20        11  \n",
       "3  2011     10   13    11        84  \n",
       "4  2012      6    2    12       668  "
      ]
     },
     "execution_count": 171,
     "metadata": {},
     "output_type": "execute_result"
    }
   ],
   "source": [
    "# Dropping the datetime column since already we extracted the data from that column (from test dataset)\n",
    "test=test.drop('datetime',axis=1)\n",
    "test.head()"
   ]
  },
  {
   "cell_type": "code",
   "execution_count": 172,
   "metadata": {},
   "outputs": [
    {
     "data": {
      "text/plain": [
       "Index(['season', 'holiday', 'workingday', 'weather', 'temp', 'atemp',\n",
       "       'humidity', 'windspeed', 'Year', 'Month', 'Day', 'Hour', 'Bookings'],\n",
       "      dtype='object')"
      ]
     },
     "execution_count": 172,
     "metadata": {},
     "output_type": "execute_result"
    }
   ],
   "source": [
    "train.columns"
   ]
  },
  {
   "cell_type": "code",
   "execution_count": 173,
   "metadata": {},
   "outputs": [
    {
     "data": {
      "text/plain": [
       "Index(['season', 'holiday', 'workingday', 'weather', 'temp', 'atemp',\n",
       "       'humidity', 'windspeed', 'Year', 'Month', 'Day', 'Hour', 'Bookings'],\n",
       "      dtype='object')"
      ]
     },
     "execution_count": 173,
     "metadata": {},
     "output_type": "execute_result"
    }
   ],
   "source": [
    "test.columns"
   ]
  },
  {
   "cell_type": "markdown",
   "metadata": {},
   "source": [
    "# File Structure"
   ]
  },
  {
   "cell_type": "code",
   "execution_count": 174,
   "metadata": {},
   "outputs": [
    {
     "name": "stdout",
     "output_type": "stream",
     "text": [
      "We have 8708 rows and 13 columns in train data\n",
      "We have 2178 rows and 13 columns in test data\n"
     ]
    }
   ],
   "source": [
    "print(\"We have {0} rows and {1} columns in train data\".format(train.shape[0],train.shape[1]))\n",
    "print(\"We have {0} rows and {1} columns in test data\".format(test.shape[0],test.shape[1]))"
   ]
  },
  {
   "cell_type": "code",
   "execution_count": 175,
   "metadata": {},
   "outputs": [
    {
     "data": {
      "text/plain": [
       "count    8708.000000\n",
       "mean      193.007005\n",
       "std       181.552211\n",
       "min         1.000000\n",
       "25%        43.000000\n",
       "50%       148.000000\n",
       "75%       286.000000\n",
       "max       977.000000\n",
       "Name: Bookings, dtype: float64"
      ]
     },
     "execution_count": 175,
     "metadata": {},
     "output_type": "execute_result"
    }
   ],
   "source": [
    "train['Bookings'].describe()"
   ]
  },
  {
   "cell_type": "markdown",
   "metadata": {},
   "source": [
    "# Univariate Analysis"
   ]
  },
  {
   "cell_type": "markdown",
   "metadata": {},
   "source": [
    "### Single variable Data Visualization"
   ]
  },
  {
   "cell_type": "code",
   "execution_count": 176,
   "metadata": {},
   "outputs": [
    {
     "data": {
      "text/plain": [
       "Text(0, 0.5, 'Frequency')"
      ]
     },
     "execution_count": 176,
     "metadata": {},
     "output_type": "execute_result"
    },
    {
     "data": {
      "image/png": "[encoded data removed]",
      "text/plain": [
       "<Figure size 360x360 with 1 Axes>"
      ]
     },
     "metadata": {
      "needs_background": "light"
     },
     "output_type": "display_data"
    }
   ],
   "source": [
    "#plotting season graph\n",
    "train['season'].plot.hist(subplots=True, figsize=(5, 5), bins=20,color='r')\n",
    "plt.xlabel(\"Seasons\")\n",
    "plt.ylabel(\"Frequency\")\n",
    "#from this graph we can understand that in all the seasons bookings are happening\n",
    "#{0:'Summer', 1:'Fall', 2:'Spring', 3:'Winter'}"
   ]
  },
  {
   "cell_type": "code",
   "execution_count": 177,
   "metadata": {},
   "outputs": [
    {
     "data": {
      "text/plain": [
       "array([0, 2, 3, 1], dtype=int64)"
      ]
     },
     "execution_count": 177,
     "metadata": {},
     "output_type": "execute_result"
    }
   ],
   "source": [
    "train['weather'].unique()"
   ]
  },
  {
   "cell_type": "code",
   "execution_count": 178,
   "metadata": {},
   "outputs": [
    {
     "data": {
      "text/plain": [
       "Text(0, 0.5, 'Frequency')"
      ]
     },
     "execution_count": 178,
     "metadata": {},
     "output_type": "execute_result"
    },
    {
     "data": {
      "image/png": "[encoded data removed]",
      "text/plain": [
       "<Figure size 360x360 with 1 Axes>"
      ]
     },
     "metadata": {
      "needs_background": "light"
     },
     "output_type": "display_data"
    }
   ],
   "source": [
    "train['weather'].plot.hist(subplots=True, figsize=(5, 5), bins=20,color='g')\n",
    "plt.xlabel(\"Weather\")\n",
    "plt.ylabel(\"Frequency\")\n",
    "# {0:'Clear + Few clouds', 2:' Mist + Cloudy ',3:' Light Snow, Light Rain', 1:' Heavy Rain + Thunderstorm ']\n",
    "#from this graph we can understand that if the waether condition is 'Heavy Rain + Thunderstorm' then bookings are not happening"
   ]
  },
  {
   "cell_type": "code",
   "execution_count": 179,
   "metadata": {},
   "outputs": [
    {
     "data": {
      "text/plain": [
       "<matplotlib.axes._subplots.AxesSubplot at 0x15f2dd01688>"
      ]
     },
     "execution_count": 179,
     "metadata": {},
     "output_type": "execute_result"
    },
    {
     "data": {
      "image/png": "[encoded data removed]",
      "text/plain": [
       "<Figure size 432x288 with 1 Axes>"
      ]
     },
     "metadata": {
      "needs_background": "light"
     },
     "output_type": "display_data"
    }
   ],
   "source": [
    "#Distplot flexibly plots a univariate distribution of observations.\n",
    "sns.distplot(train['Bookings'], kde=False, bins=30,color='g')"
   ]
  },
  {
   "cell_type": "markdown",
   "metadata": {},
   "source": [
    "### Data Visualization of Seasons and Weather"
   ]
  },
  {
   "cell_type": "code",
   "execution_count": 180,
   "metadata": {},
   "outputs": [
    {
     "data": {
      "text/plain": [
       "Text(0, 0.5, 'Frequency')"
      ]
     },
     "execution_count": 180,
     "metadata": {},
     "output_type": "execute_result"
    },
    {
     "data": {
      "image/png": "[encoded data removed]",
      "text/plain": [
       "<Figure size 1584x432 with 2 Axes>"
      ]
     },
     "metadata": {
      "needs_background": "light"
     },
     "output_type": "display_data"
    }
   ],
   "source": [
    "plt.figure(figsize=(22,6))\n",
    "\n",
    "#Seasons\n",
    "plt.subplot(121)\n",
    "sns.countplot(train['season'])\n",
    "plt.xlabel(\"Seasons\")\n",
    "plt.ylabel(\"Frequency\")\n",
    "\n",
    "#Weather\n",
    "plt.subplot(122)\n",
    "sns.countplot(train['weather'])\n",
    "plt.xlabel(\"Weather\")\n",
    "plt.ylabel(\"Frequency\")"
   ]
  },
  {
   "cell_type": "markdown",
   "metadata": {},
   "source": [
    "### Data Visualization of Weekday and Hour"
   ]
  },
  {
   "cell_type": "code",
   "execution_count": 181,
   "metadata": {},
   "outputs": [
    {
     "data": {
      "text/plain": [
       "Text(0, 0.5, 'Frequency')"
      ]
     },
     "execution_count": 181,
     "metadata": {},
     "output_type": "execute_result"
    },
    {
     "data": {
      "image/png": "[encoded data removed]",
      "text/plain": [
       "<Figure size 1584x432 with 2 Axes>"
      ]
     },
     "metadata": {
      "needs_background": "light"
     },
     "output_type": "display_data"
    }
   ],
   "source": [
    "#Daretime Features\n",
    "plt.figure(figsize=(22,6))\n",
    "\n",
    "# Weekday\n",
    "plt.subplot(121)\n",
    "sns.countplot(train['Day'])\n",
    "plt.xlabel(\"WeeK Day\")\n",
    "plt.ylabel(\"Frequency\")\n",
    "\n",
    "# Hour\n",
    "plt.subplot(122)\n",
    "sns.countplot(train['Hour'])\n",
    "plt.xlabel(\"Hour of Day\")\n",
    "plt.ylabel(\"Frequency\")"
   ]
  },
  {
   "cell_type": "markdown",
   "metadata": {},
   "source": [
    "### Data Visualization of Year and Month"
   ]
  },
  {
   "cell_type": "code",
   "execution_count": 182,
   "metadata": {},
   "outputs": [
    {
     "data": {
      "text/plain": [
       "Text(0, 0.5, 'Frequency')"
      ]
     },
     "execution_count": 182,
     "metadata": {},
     "output_type": "execute_result"
    },
    {
     "data": {
      "image/png": "[encoded data removed]",
      "text/plain": [
       "<Figure size 1584x432 with 2 Axes>"
      ]
     },
     "metadata": {
      "needs_background": "light"
     },
     "output_type": "display_data"
    }
   ],
   "source": [
    "#Daretime Features\n",
    "plt.figure(figsize=(22,6))\n",
    "\n",
    "# Year\n",
    "plt.subplot(121)\n",
    "sns.countplot(train['Year'])\n",
    "plt.xlabel(\"Year\")\n",
    "plt.ylabel(\"Frequency\")\n",
    "\n",
    "# Month\n",
    "plt.subplot(122)\n",
    "sns.countplot(train['Month'])\n",
    "plt.xlabel(\"Month\")\n",
    "plt.ylabel(\"Frequency\")"
   ]
  },
  {
   "cell_type": "markdown",
   "metadata": {},
   "source": [
    "### Bivariate Analysis \n",
    "### Features with Target"
   ]
  },
  {
   "cell_type": "code",
   "execution_count": 183,
   "metadata": {},
   "outputs": [
    {
     "data": {
      "text/plain": [
       "Index(['season', 'holiday', 'workingday', 'weather', 'temp', 'atemp',\n",
       "       'humidity', 'windspeed', 'Year', 'Month', 'Day', 'Hour', 'Bookings'],\n",
       "      dtype='object')"
      ]
     },
     "execution_count": 183,
     "metadata": {},
     "output_type": "execute_result"
    }
   ],
   "source": [
    "train.columns"
   ]
  },
  {
   "cell_type": "markdown",
   "metadata": {},
   "source": [
    "### Total Booking vs Weekday"
   ]
  },
  {
   "cell_type": "code",
   "execution_count": 184,
   "metadata": {},
   "outputs": [
    {
     "data": {
      "text/plain": [
       "<matplotlib.axes._subplots.AxesSubplot at 0x15f2e34f848>"
      ]
     },
     "execution_count": 184,
     "metadata": {},
     "output_type": "execute_result"
    },
    {
     "data": {
      "image/png": "[encoded data removed]",
      "text/plain": [
       "<Figure size 432x288 with 1 Axes>"
      ]
     },
     "metadata": {
      "needs_background": "light"
     },
     "output_type": "display_data"
    }
   ],
   "source": [
    "avg_weekday_booking = pd.DataFrame(train.groupby(['workingday'])['Bookings'].mean()).reset_index()\n",
    "avg_weekday_booking['unit'] = 1\n",
    "\n",
    "sns.tsplot(data=avg_weekday_booking, time='workingday', unit='unit', value='Bookings')"
   ]
  },
  {
   "cell_type": "markdown",
   "metadata": {},
   "source": [
    "#### Total Booking vs Hour of Day"
   ]
  },
  {
   "cell_type": "code",
   "execution_count": 185,
   "metadata": {},
   "outputs": [
    {
     "data": {
      "text/plain": [
       "<matplotlib.axes._subplots.AxesSubplot at 0x15f2e62c448>"
      ]
     },
     "execution_count": 185,
     "metadata": {},
     "output_type": "execute_result"
    },
    {
     "data": {
      "image/png": "[encoded data removed]",
      "text/plain": [
       "<Figure size 432x288 with 1 Axes>"
      ]
     },
     "metadata": {
      "needs_background": "light"
     },
     "output_type": "display_data"
    }
   ],
   "source": [
    "avg_hour_booking = pd.DataFrame(train.groupby(['Hour'])['Bookings'].mean()).reset_index()\n",
    "avg_hour_booking['unit'] = 1\n",
    "\n",
    "sns.tsplot(data=avg_hour_booking, time='Hour', unit='unit', value='Bookings',color='g')"
   ]
  },
  {
   "cell_type": "markdown",
   "metadata": {},
   "source": [
    "### Total Booking vs Temp"
   ]
  },
  {
   "cell_type": "code",
   "execution_count": 186,
   "metadata": {},
   "outputs": [
    {
     "data": {
      "text/plain": [
       "<matplotlib.axes._subplots.AxesSubplot at 0x15f2e6c9348>"
      ]
     },
     "execution_count": 186,
     "metadata": {},
     "output_type": "execute_result"
    },
    {
     "data": {
      "image/png": "[encoded data removed]",
      "text/plain": [
       "<Figure size 432x288 with 1 Axes>"
      ]
     },
     "metadata": {
      "needs_background": "light"
     },
     "output_type": "display_data"
    }
   ],
   "source": [
    "avg_temp_booking = pd.DataFrame(train.groupby('temp')['Bookings'].mean()).reset_index()\n",
    "avg_temp_booking['unit'] = 1\n",
    "\n",
    "sns.tsplot(data=avg_temp_booking, time='temp', unit='unit', value='Bookings',color='r')"
   ]
  },
  {
   "cell_type": "markdown",
   "metadata": {},
   "source": [
    "### Total Booking vs Humidity"
   ]
  },
  {
   "cell_type": "code",
   "execution_count": 187,
   "metadata": {},
   "outputs": [
    {
     "data": {
      "text/plain": [
       "<matplotlib.axes._subplots.AxesSubplot at 0x15f2e6cd948>"
      ]
     },
     "execution_count": 187,
     "metadata": {},
     "output_type": "execute_result"
    },
    {
     "data": {
      "image/png": "[encoded data removed]",
      "text/plain": [
       "<Figure size 432x288 with 1 Axes>"
      ]
     },
     "metadata": {
      "needs_background": "light"
     },
     "output_type": "display_data"
    }
   ],
   "source": [
    "avg_hum_booking = pd.DataFrame(train.groupby('humidity')['Bookings'].mean())\n",
    "avg_hum_booking.reset_index(inplace=True)\n",
    "avg_hum_booking['unit'] = 1\n",
    "\n",
    "sns.tsplot(data=avg_hum_booking, time='humidity', unit='unit', value='Bookings',color='b')"
   ]
  },
  {
   "cell_type": "markdown",
   "metadata": {},
   "source": [
    "### Total Booking vs Windspeed"
   ]
  },
  {
   "cell_type": "code",
   "execution_count": 188,
   "metadata": {},
   "outputs": [
    {
     "data": {
      "text/plain": [
       "<matplotlib.axes._subplots.AxesSubplot at 0x15f2e7a07c8>"
      ]
     },
     "execution_count": 188,
     "metadata": {},
     "output_type": "execute_result"
    },
    {
     "data": {
      "image/png": "[encoded data removed]",
      "text/plain": [
       "<Figure size 432x288 with 1 Axes>"
      ]
     },
     "metadata": {
      "needs_background": "light"
     },
     "output_type": "display_data"
    }
   ],
   "source": [
    "avg_ws_booking = pd.DataFrame(train.groupby('windspeed')['Bookings'].mean()).reset_index()\n",
    "avg_ws_booking['unit'] = 1\n",
    "\n",
    "sns.tsplot(data=avg_ws_booking, time='windspeed', unit='unit', value='Bookings',color='y')"
   ]
  },
  {
   "cell_type": "markdown",
   "metadata": {},
   "source": [
    "### Outlier Analysis\n",
    "Boxplot is very simple and effective way to visualize outliers"
   ]
  },
  {
   "cell_type": "code",
   "execution_count": 189,
   "metadata": {},
   "outputs": [
    {
     "data": {
      "text/plain": [
       "<matplotlib.axes._subplots.AxesSubplot at 0x15f2e7c0188>"
      ]
     },
     "execution_count": 189,
     "metadata": {},
     "output_type": "execute_result"
    },
    {
     "data": {
      "image/png": "[encoded data removed]",
      "text/plain": [
       "<Figure size 432x288 with 1 Axes>"
      ]
     },
     "metadata": {
      "needs_background": "light"
     },
     "output_type": "display_data"
    }
   ],
   "source": [
    "# The lower and upper whiskers as the boundaries of the data distribution. \n",
    "#Any data points that show above or below the whiskers, can be considered outliers or anomalous.\n",
    "\n",
    "sns.boxplot(train['Bookings'],color='r')"
   ]
  },
  {
   "cell_type": "code",
   "execution_count": 190,
   "metadata": {},
   "outputs": [
    {
     "data": {
      "text/html": [
       "<div>\n",
       "<style scoped>\n",
       "    .dataframe tbody tr th:only-of-type {\n",
       "        vertical-align: middle;\n",
       "    }\n",
       "\n",
       "    .dataframe tbody tr th {\n",
       "        vertical-align: top;\n",
       "    }\n",
       "\n",
       "    .dataframe thead th {\n",
       "        text-align: right;\n",
       "    }\n",
       "</style>\n",
       "<table border=\"1\" class=\"dataframe\">\n",
       "  <thead>\n",
       "    <tr style=\"text-align: right;\">\n",
       "      <th></th>\n",
       "      <th>season</th>\n",
       "      <th>holiday</th>\n",
       "      <th>workingday</th>\n",
       "      <th>weather</th>\n",
       "      <th>temp</th>\n",
       "      <th>atemp</th>\n",
       "      <th>humidity</th>\n",
       "      <th>windspeed</th>\n",
       "      <th>Year</th>\n",
       "      <th>Month</th>\n",
       "      <th>Day</th>\n",
       "      <th>Hour</th>\n",
       "      <th>Bookings</th>\n",
       "    </tr>\n",
       "  </thead>\n",
       "  <tbody>\n",
       "    <tr>\n",
       "      <td>0</td>\n",
       "      <td>2</td>\n",
       "      <td>0</td>\n",
       "      <td>1</td>\n",
       "      <td>0</td>\n",
       "      <td>22.14</td>\n",
       "      <td>25.760</td>\n",
       "      <td>77</td>\n",
       "      <td>16.9979</td>\n",
       "      <td>2012</td>\n",
       "      <td>5</td>\n",
       "      <td>2</td>\n",
       "      <td>19</td>\n",
       "      <td>504.0</td>\n",
       "    </tr>\n",
       "    <tr>\n",
       "      <td>1</td>\n",
       "      <td>0</td>\n",
       "      <td>0</td>\n",
       "      <td>1</td>\n",
       "      <td>0</td>\n",
       "      <td>28.70</td>\n",
       "      <td>33.335</td>\n",
       "      <td>79</td>\n",
       "      <td>19.0012</td>\n",
       "      <td>2012</td>\n",
       "      <td>9</td>\n",
       "      <td>5</td>\n",
       "      <td>4</td>\n",
       "      <td>5.0</td>\n",
       "    </tr>\n",
       "    <tr>\n",
       "      <td>2</td>\n",
       "      <td>1</td>\n",
       "      <td>0</td>\n",
       "      <td>1</td>\n",
       "      <td>0</td>\n",
       "      <td>5.74</td>\n",
       "      <td>6.060</td>\n",
       "      <td>50</td>\n",
       "      <td>22.0028</td>\n",
       "      <td>2011</td>\n",
       "      <td>1</td>\n",
       "      <td>13</td>\n",
       "      <td>9</td>\n",
       "      <td>139.0</td>\n",
       "    </tr>\n",
       "    <tr>\n",
       "      <td>3</td>\n",
       "      <td>3</td>\n",
       "      <td>0</td>\n",
       "      <td>1</td>\n",
       "      <td>0</td>\n",
       "      <td>13.94</td>\n",
       "      <td>16.665</td>\n",
       "      <td>29</td>\n",
       "      <td>8.9981</td>\n",
       "      <td>2011</td>\n",
       "      <td>11</td>\n",
       "      <td>18</td>\n",
       "      <td>16</td>\n",
       "      <td>209.0</td>\n",
       "    </tr>\n",
       "    <tr>\n",
       "      <td>4</td>\n",
       "      <td>0</td>\n",
       "      <td>0</td>\n",
       "      <td>1</td>\n",
       "      <td>0</td>\n",
       "      <td>30.34</td>\n",
       "      <td>33.335</td>\n",
       "      <td>51</td>\n",
       "      <td>19.0012</td>\n",
       "      <td>2011</td>\n",
       "      <td>9</td>\n",
       "      <td>13</td>\n",
       "      <td>13</td>\n",
       "      <td>184.0</td>\n",
       "    </tr>\n",
       "  </tbody>\n",
       "</table>\n",
       "</div>"
      ],
      "text/plain": [
       "   season  holiday  workingday  weather   temp   atemp  humidity  windspeed  \\\n",
       "0       2        0           1        0  22.14  25.760        77    16.9979   \n",
       "1       0        0           1        0  28.70  33.335        79    19.0012   \n",
       "2       1        0           1        0   5.74   6.060        50    22.0028   \n",
       "3       3        0           1        0  13.94  16.665        29     8.9981   \n",
       "4       0        0           1        0  30.34  33.335        51    19.0012   \n",
       "\n",
       "   Year  Month  Day  Hour  Bookings  \n",
       "0  2012      5    2    19     504.0  \n",
       "1  2012      9    5     4       5.0  \n",
       "2  2011      1   13     9     139.0  \n",
       "3  2011     11   18    16     209.0  \n",
       "4  2011      9   13    13     184.0  "
      ]
     },
     "execution_count": 190,
     "metadata": {},
     "output_type": "execute_result"
    }
   ],
   "source": [
    "train.loc[train['Bookings']>650, 'Bookings']=np.mean(train['Bookings'])\n",
    "train.head()"
   ]
  },
  {
   "cell_type": "code",
   "execution_count": 191,
   "metadata": {},
   "outputs": [
    {
     "data": {
      "text/plain": [
       "<matplotlib.axes._subplots.AxesSubplot at 0x15f2e819448>"
      ]
     },
     "execution_count": 191,
     "metadata": {},
     "output_type": "execute_result"
    },
    {
     "data": {
      "image/png": "[encoded data removed]",
      "text/plain": [
       "<Figure size 432x288 with 1 Axes>"
      ]
     },
     "metadata": {
      "needs_background": "light"
     },
     "output_type": "display_data"
    }
   ],
   "source": [
    "sns.boxplot(test['Bookings'],color='g')"
   ]
  },
  {
   "cell_type": "code",
   "execution_count": 192,
   "metadata": {},
   "outputs": [
    {
     "data": {
      "text/html": [
       "<div>\n",
       "<style scoped>\n",
       "    .dataframe tbody tr th:only-of-type {\n",
       "        vertical-align: middle;\n",
       "    }\n",
       "\n",
       "    .dataframe tbody tr th {\n",
       "        vertical-align: top;\n",
       "    }\n",
       "\n",
       "    .dataframe thead th {\n",
       "        text-align: right;\n",
       "    }\n",
       "</style>\n",
       "<table border=\"1\" class=\"dataframe\">\n",
       "  <thead>\n",
       "    <tr style=\"text-align: right;\">\n",
       "      <th></th>\n",
       "      <th>season</th>\n",
       "      <th>holiday</th>\n",
       "      <th>workingday</th>\n",
       "      <th>weather</th>\n",
       "      <th>temp</th>\n",
       "      <th>atemp</th>\n",
       "      <th>humidity</th>\n",
       "      <th>windspeed</th>\n",
       "      <th>Year</th>\n",
       "      <th>Month</th>\n",
       "      <th>Day</th>\n",
       "      <th>Hour</th>\n",
       "      <th>Bookings</th>\n",
       "    </tr>\n",
       "  </thead>\n",
       "  <tbody>\n",
       "    <tr>\n",
       "      <td>0</td>\n",
       "      <td>2</td>\n",
       "      <td>0</td>\n",
       "      <td>1</td>\n",
       "      <td>0</td>\n",
       "      <td>21.32</td>\n",
       "      <td>25.000</td>\n",
       "      <td>48</td>\n",
       "      <td>35.0008</td>\n",
       "      <td>2012</td>\n",
       "      <td>5</td>\n",
       "      <td>10</td>\n",
       "      <td>11</td>\n",
       "      <td>256.000000</td>\n",
       "    </tr>\n",
       "    <tr>\n",
       "      <td>1</td>\n",
       "      <td>2</td>\n",
       "      <td>0</td>\n",
       "      <td>0</td>\n",
       "      <td>0</td>\n",
       "      <td>23.78</td>\n",
       "      <td>27.275</td>\n",
       "      <td>64</td>\n",
       "      <td>7.0015</td>\n",
       "      <td>2012</td>\n",
       "      <td>6</td>\n",
       "      <td>9</td>\n",
       "      <td>7</td>\n",
       "      <td>87.000000</td>\n",
       "    </tr>\n",
       "    <tr>\n",
       "      <td>2</td>\n",
       "      <td>1</td>\n",
       "      <td>0</td>\n",
       "      <td>0</td>\n",
       "      <td>1</td>\n",
       "      <td>11.48</td>\n",
       "      <td>12.120</td>\n",
       "      <td>100</td>\n",
       "      <td>27.9993</td>\n",
       "      <td>2011</td>\n",
       "      <td>3</td>\n",
       "      <td>6</td>\n",
       "      <td>20</td>\n",
       "      <td>11.000000</td>\n",
       "    </tr>\n",
       "    <tr>\n",
       "      <td>3</td>\n",
       "      <td>3</td>\n",
       "      <td>0</td>\n",
       "      <td>1</td>\n",
       "      <td>2</td>\n",
       "      <td>25.42</td>\n",
       "      <td>28.790</td>\n",
       "      <td>83</td>\n",
       "      <td>0.0000</td>\n",
       "      <td>2011</td>\n",
       "      <td>10</td>\n",
       "      <td>13</td>\n",
       "      <td>11</td>\n",
       "      <td>84.000000</td>\n",
       "    </tr>\n",
       "    <tr>\n",
       "      <td>4</td>\n",
       "      <td>2</td>\n",
       "      <td>0</td>\n",
       "      <td>0</td>\n",
       "      <td>0</td>\n",
       "      <td>25.42</td>\n",
       "      <td>31.060</td>\n",
       "      <td>43</td>\n",
       "      <td>23.9994</td>\n",
       "      <td>2012</td>\n",
       "      <td>6</td>\n",
       "      <td>2</td>\n",
       "      <td>12</td>\n",
       "      <td>185.845271</td>\n",
       "    </tr>\n",
       "  </tbody>\n",
       "</table>\n",
       "</div>"
      ],
      "text/plain": [
       "   season  holiday  workingday  weather   temp   atemp  humidity  windspeed  \\\n",
       "0       2        0           1        0  21.32  25.000        48    35.0008   \n",
       "1       2        0           0        0  23.78  27.275        64     7.0015   \n",
       "2       1        0           0        1  11.48  12.120       100    27.9993   \n",
       "3       3        0           1        2  25.42  28.790        83     0.0000   \n",
       "4       2        0           0        0  25.42  31.060        43    23.9994   \n",
       "\n",
       "   Year  Month  Day  Hour    Bookings  \n",
       "0  2012      5   10    11  256.000000  \n",
       "1  2012      6    9     7   87.000000  \n",
       "2  2011      3    6    20   11.000000  \n",
       "3  2011     10   13    11   84.000000  \n",
       "4  2012      6    2    12  185.845271  "
      ]
     },
     "execution_count": 192,
     "metadata": {},
     "output_type": "execute_result"
    }
   ],
   "source": [
    "test.loc[test['Bookings']>650, 'Bookings']=np.mean(test['Bookings'])\n",
    "test.head()"
   ]
  },
  {
   "cell_type": "markdown",
   "metadata": {},
   "source": [
    "### Feature Engineering"
   ]
  },
  {
   "cell_type": "code",
   "execution_count": 193,
   "metadata": {},
   "outputs": [],
   "source": [
    "# Removing the junk data\n",
    "# For example if the working day is equal to one means, it is understood that holiday should be equal to zero\n",
    "# If that is not the case then will remove respective rows\n",
    "\n",
    "train=train[((train['holiday']==1)&(train['workingday']==0))|((train['holiday']==0)&(train['workingday']==1))]\n",
    "\n",
    "test=test[((test['holiday']==1)&(test['workingday']==0))|((test['holiday']==0)&(test['workingday']==1))]"
   ]
  },
  {
   "cell_type": "code",
   "execution_count": 194,
   "metadata": {},
   "outputs": [
    {
     "data": {
      "text/plain": [
       "<matplotlib.axes._subplots.AxesSubplot at 0x15f2ec78448>"
      ]
     },
     "execution_count": 194,
     "metadata": {},
     "output_type": "execute_result"
    },
    {
     "data": {
      "image/png": "[encoded data removed]",
      "text/plain": [
       "<Figure size 432x288 with 1 Axes>"
      ]
     },
     "metadata": {
      "needs_background": "light"
     },
     "output_type": "display_data"
    }
   ],
   "source": [
    "train['log_total_booking'] = np.log(train['Bookings'].values + 1)\n",
    "sns.distplot(train['log_total_booking'], kde=False, bins=30)"
   ]
  },
  {
   "cell_type": "markdown",
   "metadata": {},
   "source": [
    "### Scaling Operation using Standard scaler"
   ]
  },
  {
   "cell_type": "code",
   "execution_count": 195,
   "metadata": {},
   "outputs": [
    {
     "data": {
      "text/html": [
       "<div>\n",
       "<style scoped>\n",
       "    .dataframe tbody tr th:only-of-type {\n",
       "        vertical-align: middle;\n",
       "    }\n",
       "\n",
       "    .dataframe tbody tr th {\n",
       "        vertical-align: top;\n",
       "    }\n",
       "\n",
       "    .dataframe thead th {\n",
       "        text-align: right;\n",
       "    }\n",
       "</style>\n",
       "<table border=\"1\" class=\"dataframe\">\n",
       "  <thead>\n",
       "    <tr style=\"text-align: right;\">\n",
       "      <th></th>\n",
       "      <th>season</th>\n",
       "      <th>holiday</th>\n",
       "      <th>workingday</th>\n",
       "      <th>weather</th>\n",
       "      <th>temp</th>\n",
       "      <th>atemp</th>\n",
       "      <th>humidity</th>\n",
       "      <th>windspeed</th>\n",
       "      <th>Year</th>\n",
       "      <th>Month</th>\n",
       "      <th>Day</th>\n",
       "      <th>Hour</th>\n",
       "      <th>Bookings</th>\n",
       "      <th>log_total_booking</th>\n",
       "    </tr>\n",
       "  </thead>\n",
       "  <tbody>\n",
       "    <tr>\n",
       "      <td>0</td>\n",
       "      <td>0.441294</td>\n",
       "      <td>-0.204606</td>\n",
       "      <td>0.204606</td>\n",
       "      <td>-0.714387</td>\n",
       "      <td>0.221243</td>\n",
       "      <td>0.231859</td>\n",
       "      <td>0.807636</td>\n",
       "      <td>0.496637</td>\n",
       "      <td>0.991289</td>\n",
       "      <td>-0.445404</td>\n",
       "      <td>-1.475759</td>\n",
       "      <td>1.077260</td>\n",
       "      <td>2.181611</td>\n",
       "      <td>1.190868</td>\n",
       "    </tr>\n",
       "    <tr>\n",
       "      <td>1</td>\n",
       "      <td>-1.342961</td>\n",
       "      <td>-0.204606</td>\n",
       "      <td>0.204606</td>\n",
       "      <td>-0.714387</td>\n",
       "      <td>1.059301</td>\n",
       "      <td>1.123802</td>\n",
       "      <td>0.911924</td>\n",
       "      <td>0.741193</td>\n",
       "      <td>0.991289</td>\n",
       "      <td>0.722161</td>\n",
       "      <td>-0.925293</td>\n",
       "      <td>-1.104933</td>\n",
       "      <td>-1.132642</td>\n",
       "      <td>-1.953530</td>\n",
       "    </tr>\n",
       "    <tr>\n",
       "      <td>2</td>\n",
       "      <td>-0.450834</td>\n",
       "      <td>-0.204606</td>\n",
       "      <td>0.204606</td>\n",
       "      <td>-0.714387</td>\n",
       "      <td>-1.873903</td>\n",
       "      <td>-2.087782</td>\n",
       "      <td>-0.600244</td>\n",
       "      <td>1.107618</td>\n",
       "      <td>-1.008788</td>\n",
       "      <td>-1.612969</td>\n",
       "      <td>0.542618</td>\n",
       "      <td>-0.377535</td>\n",
       "      <td>-0.242642</td>\n",
       "      <td>0.280834</td>\n",
       "    </tr>\n",
       "    <tr>\n",
       "      <td>3</td>\n",
       "      <td>1.333422</td>\n",
       "      <td>-0.204606</td>\n",
       "      <td>0.204606</td>\n",
       "      <td>-0.714387</td>\n",
       "      <td>-0.826330</td>\n",
       "      <td>-0.839062</td>\n",
       "      <td>-1.695262</td>\n",
       "      <td>-0.479950</td>\n",
       "      <td>-1.008788</td>\n",
       "      <td>1.305944</td>\n",
       "      <td>1.460062</td>\n",
       "      <td>0.640822</td>\n",
       "      <td>0.222283</td>\n",
       "      <td>0.568450</td>\n",
       "    </tr>\n",
       "    <tr>\n",
       "      <td>4</td>\n",
       "      <td>-1.342961</td>\n",
       "      <td>-0.204606</td>\n",
       "      <td>0.204606</td>\n",
       "      <td>-0.714387</td>\n",
       "      <td>1.268816</td>\n",
       "      <td>1.123802</td>\n",
       "      <td>-0.548100</td>\n",
       "      <td>0.741193</td>\n",
       "      <td>-1.008788</td>\n",
       "      <td>0.722161</td>\n",
       "      <td>0.542618</td>\n",
       "      <td>0.204383</td>\n",
       "      <td>0.056238</td>\n",
       "      <td>0.478539</td>\n",
       "    </tr>\n",
       "  </tbody>\n",
       "</table>\n",
       "</div>"
      ],
      "text/plain": [
       "     season   holiday  workingday   weather      temp     atemp  humidity  \\\n",
       "0  0.441294 -0.204606    0.204606 -0.714387  0.221243  0.231859  0.807636   \n",
       "1 -1.342961 -0.204606    0.204606 -0.714387  1.059301  1.123802  0.911924   \n",
       "2 -0.450834 -0.204606    0.204606 -0.714387 -1.873903 -2.087782 -0.600244   \n",
       "3  1.333422 -0.204606    0.204606 -0.714387 -0.826330 -0.839062 -1.695262   \n",
       "4 -1.342961 -0.204606    0.204606 -0.714387  1.268816  1.123802 -0.548100   \n",
       "\n",
       "   windspeed      Year     Month       Day      Hour  Bookings  \\\n",
       "0   0.496637  0.991289 -0.445404 -1.475759  1.077260  2.181611   \n",
       "1   0.741193  0.991289  0.722161 -0.925293 -1.104933 -1.132642   \n",
       "2   1.107618 -1.008788 -1.612969  0.542618 -0.377535 -0.242642   \n",
       "3  -0.479950 -1.008788  1.305944  1.460062  0.640822  0.222283   \n",
       "4   0.741193 -1.008788  0.722161  0.542618  0.204383  0.056238   \n",
       "\n",
       "   log_total_booking  \n",
       "0           1.190868  \n",
       "1          -1.953530  \n",
       "2           0.280834  \n",
       "3           0.568450  \n",
       "4           0.478539  "
      ]
     },
     "execution_count": 195,
     "metadata": {},
     "output_type": "execute_result"
    }
   ],
   "source": [
    "from sklearn.preprocessing import StandardScaler\n",
    "st=StandardScaler()\n",
    "df=st.fit_transform(train)\n",
    "train=pd.DataFrame(df,columns=train.columns)\n",
    "train.head()"
   ]
  },
  {
   "cell_type": "code",
   "execution_count": 196,
   "metadata": {},
   "outputs": [
    {
     "data": {
      "text/html": [
       "<div>\n",
       "<style scoped>\n",
       "    .dataframe tbody tr th:only-of-type {\n",
       "        vertical-align: middle;\n",
       "    }\n",
       "\n",
       "    .dataframe tbody tr th {\n",
       "        vertical-align: top;\n",
       "    }\n",
       "\n",
       "    .dataframe thead th {\n",
       "        text-align: right;\n",
       "    }\n",
       "</style>\n",
       "<table border=\"1\" class=\"dataframe\">\n",
       "  <thead>\n",
       "    <tr style=\"text-align: right;\">\n",
       "      <th></th>\n",
       "      <th>season</th>\n",
       "      <th>holiday</th>\n",
       "      <th>workingday</th>\n",
       "      <th>weather</th>\n",
       "      <th>temp</th>\n",
       "      <th>atemp</th>\n",
       "      <th>humidity</th>\n",
       "      <th>windspeed</th>\n",
       "      <th>Year</th>\n",
       "      <th>Month</th>\n",
       "      <th>Day</th>\n",
       "      <th>Hour</th>\n",
       "      <th>Bookings</th>\n",
       "    </tr>\n",
       "  </thead>\n",
       "  <tbody>\n",
       "    <tr>\n",
       "      <td>0</td>\n",
       "      <td>0.452927</td>\n",
       "      <td>-0.205764</td>\n",
       "      <td>0.205764</td>\n",
       "      <td>-0.702614</td>\n",
       "      <td>0.134041</td>\n",
       "      <td>0.150451</td>\n",
       "      <td>-0.763986</td>\n",
       "      <td>2.735274</td>\n",
       "      <td>1.009718</td>\n",
       "      <td>-0.425806</td>\n",
       "      <td>0.024383</td>\n",
       "      <td>-0.055019</td>\n",
       "      <td>0.574218</td>\n",
       "    </tr>\n",
       "    <tr>\n",
       "      <td>1</td>\n",
       "      <td>1.346679</td>\n",
       "      <td>-0.205764</td>\n",
       "      <td>0.205764</td>\n",
       "      <td>1.586785</td>\n",
       "      <td>0.668482</td>\n",
       "      <td>0.605410</td>\n",
       "      <td>1.050389</td>\n",
       "      <td>-1.561270</td>\n",
       "      <td>-0.990375</td>\n",
       "      <td>1.019957</td>\n",
       "      <td>0.575141</td>\n",
       "      <td>-0.055019</td>\n",
       "      <td>-0.562430</td>\n",
       "    </tr>\n",
       "    <tr>\n",
       "      <td>2</td>\n",
       "      <td>0.452927</td>\n",
       "      <td>-0.205764</td>\n",
       "      <td>0.205764</td>\n",
       "      <td>-0.702614</td>\n",
       "      <td>-1.041729</td>\n",
       "      <td>-0.940730</td>\n",
       "      <td>-0.090075</td>\n",
       "      <td>-0.824344</td>\n",
       "      <td>-0.990375</td>\n",
       "      <td>-0.714958</td>\n",
       "      <td>-1.627889</td>\n",
       "      <td>1.643192</td>\n",
       "      <td>-0.767291</td>\n",
       "    </tr>\n",
       "    <tr>\n",
       "      <td>3</td>\n",
       "      <td>1.346679</td>\n",
       "      <td>-0.205764</td>\n",
       "      <td>0.205764</td>\n",
       "      <td>1.586785</td>\n",
       "      <td>-0.507288</td>\n",
       "      <td>-0.395139</td>\n",
       "      <td>-0.660308</td>\n",
       "      <td>-0.210787</td>\n",
       "      <td>1.009718</td>\n",
       "      <td>1.309110</td>\n",
       "      <td>-1.627889</td>\n",
       "      <td>0.935604</td>\n",
       "      <td>0.110606</td>\n",
       "    </tr>\n",
       "    <tr>\n",
       "      <td>4</td>\n",
       "      <td>1.346679</td>\n",
       "      <td>-0.205764</td>\n",
       "      <td>0.205764</td>\n",
       "      <td>-0.702614</td>\n",
       "      <td>-0.186624</td>\n",
       "      <td>-0.122644</td>\n",
       "      <td>-1.126862</td>\n",
       "      <td>1.384790</td>\n",
       "      <td>1.009718</td>\n",
       "      <td>1.019957</td>\n",
       "      <td>0.391555</td>\n",
       "      <td>0.652569</td>\n",
       "      <td>2.318841</td>\n",
       "    </tr>\n",
       "  </tbody>\n",
       "</table>\n",
       "</div>"
      ],
      "text/plain": [
       "     season   holiday  workingday   weather      temp     atemp  humidity  \\\n",
       "0  0.452927 -0.205764    0.205764 -0.702614  0.134041  0.150451 -0.763986   \n",
       "1  1.346679 -0.205764    0.205764  1.586785  0.668482  0.605410  1.050389   \n",
       "2  0.452927 -0.205764    0.205764 -0.702614 -1.041729 -0.940730 -0.090075   \n",
       "3  1.346679 -0.205764    0.205764  1.586785 -0.507288 -0.395139 -0.660308   \n",
       "4  1.346679 -0.205764    0.205764 -0.702614 -0.186624 -0.122644 -1.126862   \n",
       "\n",
       "   windspeed      Year     Month       Day      Hour  Bookings  \n",
       "0   2.735274  1.009718 -0.425806  0.024383 -0.055019  0.574218  \n",
       "1  -1.561270 -0.990375  1.019957  0.575141 -0.055019 -0.562430  \n",
       "2  -0.824344 -0.990375 -0.714958 -1.627889  1.643192 -0.767291  \n",
       "3  -0.210787  1.009718  1.309110 -1.627889  0.935604  0.110606  \n",
       "4   1.384790  1.009718  1.019957  0.391555  0.652569  2.318841  "
      ]
     },
     "execution_count": 196,
     "metadata": {},
     "output_type": "execute_result"
    }
   ],
   "source": [
    "df1=st.fit_transform(test)\n",
    "test=pd.DataFrame(df1,columns=test.columns)\n",
    "test.head()"
   ]
  },
  {
   "cell_type": "markdown",
   "metadata": {},
   "source": [
    "### Correlation Heatmap"
   ]
  },
  {
   "cell_type": "code",
   "execution_count": 197,
   "metadata": {},
   "outputs": [
    {
     "data": {
      "image/png": "[encoded data removed]",
      "text/plain": [
       "<Figure size 864x432 with 2 Axes>"
      ]
     },
     "metadata": {
      "needs_background": "light"
     },
     "output_type": "display_data"
    }
   ],
   "source": [
    "plt.figure(figsize=(12,6))\n",
    "\n",
    "train = train.drop(columns=['log_total_booking'])\n",
    "corr = train.corr()\n",
    "ax = sns.heatmap(corr, xticklabels=corr.columns, yticklabels=corr.columns,annot=True, linewidths=.2)"
   ]
  },
  {
   "cell_type": "markdown",
   "metadata": {},
   "source": [
    "### temp and atemp are highly correlated, so one of the column should be removed from Independent Variables for prediction"
   ]
  },
  {
   "cell_type": "code",
   "execution_count": 198,
   "metadata": {},
   "outputs": [],
   "source": [
    "train=train.drop('atemp',axis=1)\n",
    "test=test.drop('atemp',axis=1)"
   ]
  },
  {
   "cell_type": "code",
   "execution_count": 199,
   "metadata": {},
   "outputs": [
    {
     "data": {
      "text/plain": [
       "season        float64\n",
       "holiday       float64\n",
       "workingday    float64\n",
       "weather       float64\n",
       "temp          float64\n",
       "humidity      float64\n",
       "windspeed     float64\n",
       "Year          float64\n",
       "Month         float64\n",
       "Day           float64\n",
       "Hour          float64\n",
       "Bookings      float64\n",
       "dtype: object"
      ]
     },
     "execution_count": 199,
     "metadata": {},
     "output_type": "execute_result"
    }
   ],
   "source": [
    "test.dtypes"
   ]
  },
  {
   "cell_type": "markdown",
   "metadata": {},
   "source": [
    "### Missing value analysis"
   ]
  },
  {
   "cell_type": "code",
   "execution_count": 200,
   "metadata": {},
   "outputs": [
    {
     "data": {
      "text/plain": [
       "season        0\n",
       "holiday       0\n",
       "workingday    0\n",
       "weather       0\n",
       "temp          0\n",
       "humidity      0\n",
       "windspeed     0\n",
       "Year          0\n",
       "Month         0\n",
       "Day           0\n",
       "Hour          0\n",
       "Bookings      0\n",
       "dtype: int64"
      ]
     },
     "execution_count": 200,
     "metadata": {},
     "output_type": "execute_result"
    }
   ],
   "source": [
    "train.isna().sum()"
   ]
  },
  {
   "cell_type": "code",
   "execution_count": 201,
   "metadata": {},
   "outputs": [
    {
     "data": {
      "text/plain": [
       "season        0\n",
       "holiday       0\n",
       "workingday    0\n",
       "weather       0\n",
       "temp          0\n",
       "humidity      0\n",
       "windspeed     0\n",
       "Year          0\n",
       "Month         0\n",
       "Day           0\n",
       "Hour          0\n",
       "Bookings      0\n",
       "dtype: int64"
      ]
     },
     "execution_count": 201,
     "metadata": {},
     "output_type": "execute_result"
    }
   ],
   "source": [
    "test.isna().sum()"
   ]
  },
  {
   "cell_type": "code",
   "execution_count": 202,
   "metadata": {},
   "outputs": [
    {
     "data": {
      "text/plain": [
       "<matplotlib.axes._subplots.AxesSubplot at 0x15f2f0ce248>"
      ]
     },
     "execution_count": 202,
     "metadata": {},
     "output_type": "execute_result"
    },
    {
     "data": {
      "image/png": "[encoded data removed]",
      "text/plain": [
       "<Figure size 432x288 with 1 Axes>"
      ]
     },
     "metadata": {
      "needs_background": "light"
     },
     "output_type": "display_data"
    }
   ],
   "source": [
    "sns.boxplot(train['Bookings'],color='r')"
   ]
  },
  {
   "cell_type": "code",
   "execution_count": 203,
   "metadata": {},
   "outputs": [
    {
     "data": {
      "text/plain": [
       "<matplotlib.axes._subplots.AxesSubplot at 0x15f2ee05348>"
      ]
     },
     "execution_count": 203,
     "metadata": {},
     "output_type": "execute_result"
    },
    {
     "data": {
      "image/png": "[encoded data removed]",
      "text/plain": [
       "<Figure size 432x288 with 1 Axes>"
      ]
     },
     "metadata": {
      "needs_background": "light"
     },
     "output_type": "display_data"
    }
   ],
   "source": [
    "avg_temp_booking = pd.DataFrame(train.groupby('temp')['Bookings'].mean()).reset_index()\n",
    "avg_temp_booking['unit'] = 1\n",
    "\n",
    "sns.tsplot(data=avg_temp_booking, time='temp', unit='unit', value='Bookings',color='r')"
   ]
  },
  {
   "cell_type": "markdown",
   "metadata": {},
   "source": [
    "\n",
    "### Model Building"
   ]
  },
  {
   "cell_type": "code",
   "execution_count": 204,
   "metadata": {},
   "outputs": [],
   "source": [
    "from sklearn.linear_model import LinearRegression \n",
    "from sklearn.tree import DecisionTreeRegressor\n",
    "from sklearn.linear_model import Ridge, Lasso\n",
    "from sklearn.model_selection import KFold\n",
    "from sklearn.neighbors import KNeighborsRegressor\n",
    "from sklearn.metrics import mean_squared_error\n",
    "from math import sqrt\n",
    "from sklearn.model_selection import GridSearchCV"
   ]
  },
  {
   "cell_type": "code",
   "execution_count": 205,
   "metadata": {},
   "outputs": [
    {
     "data": {
      "text/html": [
       "<div>\n",
       "<style scoped>\n",
       "    .dataframe tbody tr th:only-of-type {\n",
       "        vertical-align: middle;\n",
       "    }\n",
       "\n",
       "    .dataframe tbody tr th {\n",
       "        vertical-align: top;\n",
       "    }\n",
       "\n",
       "    .dataframe thead th {\n",
       "        text-align: right;\n",
       "    }\n",
       "</style>\n",
       "<table border=\"1\" class=\"dataframe\">\n",
       "  <thead>\n",
       "    <tr style=\"text-align: right;\">\n",
       "      <th></th>\n",
       "      <th>season</th>\n",
       "      <th>holiday</th>\n",
       "      <th>workingday</th>\n",
       "      <th>weather</th>\n",
       "      <th>temp</th>\n",
       "      <th>humidity</th>\n",
       "      <th>windspeed</th>\n",
       "      <th>Year</th>\n",
       "      <th>Month</th>\n",
       "      <th>Day</th>\n",
       "      <th>Hour</th>\n",
       "      <th>Bookings</th>\n",
       "    </tr>\n",
       "  </thead>\n",
       "  <tbody>\n",
       "    <tr>\n",
       "      <td>0</td>\n",
       "      <td>0.441294</td>\n",
       "      <td>-0.204606</td>\n",
       "      <td>0.204606</td>\n",
       "      <td>-0.714387</td>\n",
       "      <td>0.221243</td>\n",
       "      <td>0.807636</td>\n",
       "      <td>0.496637</td>\n",
       "      <td>0.991289</td>\n",
       "      <td>-0.445404</td>\n",
       "      <td>-1.475759</td>\n",
       "      <td>1.077260</td>\n",
       "      <td>2.181611</td>\n",
       "    </tr>\n",
       "    <tr>\n",
       "      <td>1</td>\n",
       "      <td>-1.342961</td>\n",
       "      <td>-0.204606</td>\n",
       "      <td>0.204606</td>\n",
       "      <td>-0.714387</td>\n",
       "      <td>1.059301</td>\n",
       "      <td>0.911924</td>\n",
       "      <td>0.741193</td>\n",
       "      <td>0.991289</td>\n",
       "      <td>0.722161</td>\n",
       "      <td>-0.925293</td>\n",
       "      <td>-1.104933</td>\n",
       "      <td>-1.132642</td>\n",
       "    </tr>\n",
       "    <tr>\n",
       "      <td>2</td>\n",
       "      <td>-0.450834</td>\n",
       "      <td>-0.204606</td>\n",
       "      <td>0.204606</td>\n",
       "      <td>-0.714387</td>\n",
       "      <td>-1.873903</td>\n",
       "      <td>-0.600244</td>\n",
       "      <td>1.107618</td>\n",
       "      <td>-1.008788</td>\n",
       "      <td>-1.612969</td>\n",
       "      <td>0.542618</td>\n",
       "      <td>-0.377535</td>\n",
       "      <td>-0.242642</td>\n",
       "    </tr>\n",
       "    <tr>\n",
       "      <td>3</td>\n",
       "      <td>1.333422</td>\n",
       "      <td>-0.204606</td>\n",
       "      <td>0.204606</td>\n",
       "      <td>-0.714387</td>\n",
       "      <td>-0.826330</td>\n",
       "      <td>-1.695262</td>\n",
       "      <td>-0.479950</td>\n",
       "      <td>-1.008788</td>\n",
       "      <td>1.305944</td>\n",
       "      <td>1.460062</td>\n",
       "      <td>0.640822</td>\n",
       "      <td>0.222283</td>\n",
       "    </tr>\n",
       "    <tr>\n",
       "      <td>4</td>\n",
       "      <td>-1.342961</td>\n",
       "      <td>-0.204606</td>\n",
       "      <td>0.204606</td>\n",
       "      <td>-0.714387</td>\n",
       "      <td>1.268816</td>\n",
       "      <td>-0.548100</td>\n",
       "      <td>0.741193</td>\n",
       "      <td>-1.008788</td>\n",
       "      <td>0.722161</td>\n",
       "      <td>0.542618</td>\n",
       "      <td>0.204383</td>\n",
       "      <td>0.056238</td>\n",
       "    </tr>\n",
       "  </tbody>\n",
       "</table>\n",
       "</div>"
      ],
      "text/plain": [
       "     season   holiday  workingday   weather      temp  humidity  windspeed  \\\n",
       "0  0.441294 -0.204606    0.204606 -0.714387  0.221243  0.807636   0.496637   \n",
       "1 -1.342961 -0.204606    0.204606 -0.714387  1.059301  0.911924   0.741193   \n",
       "2 -0.450834 -0.204606    0.204606 -0.714387 -1.873903 -0.600244   1.107618   \n",
       "3  1.333422 -0.204606    0.204606 -0.714387 -0.826330 -1.695262  -0.479950   \n",
       "4 -1.342961 -0.204606    0.204606 -0.714387  1.268816 -0.548100   0.741193   \n",
       "\n",
       "       Year     Month       Day      Hour  Bookings  \n",
       "0  0.991289 -0.445404 -1.475759  1.077260  2.181611  \n",
       "1  0.991289  0.722161 -0.925293 -1.104933 -1.132642  \n",
       "2 -1.008788 -1.612969  0.542618 -0.377535 -0.242642  \n",
       "3 -1.008788  1.305944  1.460062  0.640822  0.222283  \n",
       "4 -1.008788  0.722161  0.542618  0.204383  0.056238  "
      ]
     },
     "execution_count": 205,
     "metadata": {},
     "output_type": "execute_result"
    }
   ],
   "source": [
    "train.head()"
   ]
  },
  {
   "cell_type": "code",
   "execution_count": 206,
   "metadata": {},
   "outputs": [],
   "source": [
    "xtrain=train.iloc[:,:-1]\n",
    "ytrain=train.iloc[:,-1]"
   ]
  },
  {
   "cell_type": "code",
   "execution_count": 207,
   "metadata": {},
   "outputs": [
    {
     "data": {
      "text/html": [
       "<div>\n",
       "<style scoped>\n",
       "    .dataframe tbody tr th:only-of-type {\n",
       "        vertical-align: middle;\n",
       "    }\n",
       "\n",
       "    .dataframe tbody tr th {\n",
       "        vertical-align: top;\n",
       "    }\n",
       "\n",
       "    .dataframe thead th {\n",
       "        text-align: right;\n",
       "    }\n",
       "</style>\n",
       "<table border=\"1\" class=\"dataframe\">\n",
       "  <thead>\n",
       "    <tr style=\"text-align: right;\">\n",
       "      <th></th>\n",
       "      <th>season</th>\n",
       "      <th>holiday</th>\n",
       "      <th>workingday</th>\n",
       "      <th>weather</th>\n",
       "      <th>temp</th>\n",
       "      <th>humidity</th>\n",
       "      <th>windspeed</th>\n",
       "      <th>Year</th>\n",
       "      <th>Month</th>\n",
       "      <th>Day</th>\n",
       "      <th>Hour</th>\n",
       "      <th>Bookings</th>\n",
       "    </tr>\n",
       "  </thead>\n",
       "  <tbody>\n",
       "    <tr>\n",
       "      <td>0</td>\n",
       "      <td>0.452927</td>\n",
       "      <td>-0.205764</td>\n",
       "      <td>0.205764</td>\n",
       "      <td>-0.702614</td>\n",
       "      <td>0.134041</td>\n",
       "      <td>-0.763986</td>\n",
       "      <td>2.735274</td>\n",
       "      <td>1.009718</td>\n",
       "      <td>-0.425806</td>\n",
       "      <td>0.024383</td>\n",
       "      <td>-0.055019</td>\n",
       "      <td>0.574218</td>\n",
       "    </tr>\n",
       "    <tr>\n",
       "      <td>1</td>\n",
       "      <td>1.346679</td>\n",
       "      <td>-0.205764</td>\n",
       "      <td>0.205764</td>\n",
       "      <td>1.586785</td>\n",
       "      <td>0.668482</td>\n",
       "      <td>1.050389</td>\n",
       "      <td>-1.561270</td>\n",
       "      <td>-0.990375</td>\n",
       "      <td>1.019957</td>\n",
       "      <td>0.575141</td>\n",
       "      <td>-0.055019</td>\n",
       "      <td>-0.562430</td>\n",
       "    </tr>\n",
       "    <tr>\n",
       "      <td>2</td>\n",
       "      <td>0.452927</td>\n",
       "      <td>-0.205764</td>\n",
       "      <td>0.205764</td>\n",
       "      <td>-0.702614</td>\n",
       "      <td>-1.041729</td>\n",
       "      <td>-0.090075</td>\n",
       "      <td>-0.824344</td>\n",
       "      <td>-0.990375</td>\n",
       "      <td>-0.714958</td>\n",
       "      <td>-1.627889</td>\n",
       "      <td>1.643192</td>\n",
       "      <td>-0.767291</td>\n",
       "    </tr>\n",
       "    <tr>\n",
       "      <td>3</td>\n",
       "      <td>1.346679</td>\n",
       "      <td>-0.205764</td>\n",
       "      <td>0.205764</td>\n",
       "      <td>1.586785</td>\n",
       "      <td>-0.507288</td>\n",
       "      <td>-0.660308</td>\n",
       "      <td>-0.210787</td>\n",
       "      <td>1.009718</td>\n",
       "      <td>1.309110</td>\n",
       "      <td>-1.627889</td>\n",
       "      <td>0.935604</td>\n",
       "      <td>0.110606</td>\n",
       "    </tr>\n",
       "    <tr>\n",
       "      <td>4</td>\n",
       "      <td>1.346679</td>\n",
       "      <td>-0.205764</td>\n",
       "      <td>0.205764</td>\n",
       "      <td>-0.702614</td>\n",
       "      <td>-0.186624</td>\n",
       "      <td>-1.126862</td>\n",
       "      <td>1.384790</td>\n",
       "      <td>1.009718</td>\n",
       "      <td>1.019957</td>\n",
       "      <td>0.391555</td>\n",
       "      <td>0.652569</td>\n",
       "      <td>2.318841</td>\n",
       "    </tr>\n",
       "  </tbody>\n",
       "</table>\n",
       "</div>"
      ],
      "text/plain": [
       "     season   holiday  workingday   weather      temp  humidity  windspeed  \\\n",
       "0  0.452927 -0.205764    0.205764 -0.702614  0.134041 -0.763986   2.735274   \n",
       "1  1.346679 -0.205764    0.205764  1.586785  0.668482  1.050389  -1.561270   \n",
       "2  0.452927 -0.205764    0.205764 -0.702614 -1.041729 -0.090075  -0.824344   \n",
       "3  1.346679 -0.205764    0.205764  1.586785 -0.507288 -0.660308  -0.210787   \n",
       "4  1.346679 -0.205764    0.205764 -0.702614 -0.186624 -1.126862   1.384790   \n",
       "\n",
       "       Year     Month       Day      Hour  Bookings  \n",
       "0  1.009718 -0.425806  0.024383 -0.055019  0.574218  \n",
       "1 -0.990375  1.019957  0.575141 -0.055019 -0.562430  \n",
       "2 -0.990375 -0.714958 -1.627889  1.643192 -0.767291  \n",
       "3  1.009718  1.309110 -1.627889  0.935604  0.110606  \n",
       "4  1.009718  1.019957  0.391555  0.652569  2.318841  "
      ]
     },
     "execution_count": 207,
     "metadata": {},
     "output_type": "execute_result"
    }
   ],
   "source": [
    "test.head()"
   ]
  },
  {
   "cell_type": "code",
   "execution_count": 208,
   "metadata": {},
   "outputs": [],
   "source": [
    "xtest=test.iloc[:,:-1]\n",
    "ytest=test.iloc[:,-1]"
   ]
  },
  {
   "cell_type": "markdown",
   "metadata": {},
   "source": [
    "### Cross Validation"
   ]
  },
  {
   "cell_type": "code",
   "execution_count": 209,
   "metadata": {},
   "outputs": [],
   "source": [
    "def cross_validation_score(ml_model,cols = xtrain.columns):\n",
    "    i = 1\n",
    "    cv_scores=[]\n",
    "   \n",
    "    kf = KFold(n_splits=5,random_state=42,shuffle=True)\n",
    "    for train_index,test_index in kf.split(xtrain,ytrain):\n",
    "        print('\\n{} of kfold {}'.format(i,kf.n_splits))\n",
    "        model = ml_model\n",
    "        model.fit(xtrain, ytrain)\n",
    "        pred_val = model.predict(xtest)\n",
    "        \n",
    "        rmse_score = sqrt(mean_squared_error(ytest, pred_val))\n",
    "        msg = \"\"\n",
    "        msg += \"RMSE score: {}\".format(rmse_score)\n",
    "        print(\"{}\".format(msg))\n",
    "        \n",
    "        \n",
    "        # Save scores\n",
    "        cv_scores.append(rmse_score)\n",
    "        i+=1\n",
    "    return cv_scores"
   ]
  },
  {
   "cell_type": "markdown",
   "metadata": {},
   "source": [
    "### Linear Regression"
   ]
  },
  {
   "cell_type": "code",
   "execution_count": 210,
   "metadata": {},
   "outputs": [
    {
     "name": "stdout",
     "output_type": "stream",
     "text": [
      "\n",
      "1 of kfold 5\n",
      "RMSE score: 0.8172234219780212\n",
      "\n",
      "2 of kfold 5\n",
      "RMSE score: 0.8172234219780212\n",
      "\n",
      "3 of kfold 5\n",
      "RMSE score: 0.8172234219780212\n",
      "\n",
      "4 of kfold 5\n",
      "RMSE score: 0.8172234219780212\n",
      "\n",
      "5 of kfold 5\n",
      "RMSE score: 0.8172234219780212\n"
     ]
    }
   ],
   "source": [
    "linreg_scores = cross_validation_score(LinearRegression())\n"
   ]
  },
  {
   "cell_type": "markdown",
   "metadata": {},
   "source": [
    "### Decision Tree"
   ]
  },
  {
   "cell_type": "code",
   "execution_count": 211,
   "metadata": {},
   "outputs": [
    {
     "name": "stdout",
     "output_type": "stream",
     "text": [
      "\n",
      "1 of kfold 5\n",
      "RMSE score: 0.3845143111731068\n",
      "\n",
      "2 of kfold 5\n",
      "RMSE score: 0.3845143111731068\n",
      "\n",
      "3 of kfold 5\n",
      "RMSE score: 0.3845145478339889\n",
      "\n",
      "4 of kfold 5\n",
      "RMSE score: 0.3845179192722569\n",
      "\n",
      "5 of kfold 5\n",
      "RMSE score: 0.3845145478339889\n"
     ]
    }
   ],
   "source": [
    "dtree_scores = cross_validation_score(DecisionTreeRegressor(min_samples_leaf=5, min_samples_split=20))"
   ]
  },
  {
   "cell_type": "markdown",
   "metadata": {},
   "source": [
    "### KNeighborsRegressor"
   ]
  },
  {
   "cell_type": "code",
   "execution_count": 212,
   "metadata": {},
   "outputs": [
    {
     "name": "stdout",
     "output_type": "stream",
     "text": [
      "\n",
      "1 of kfold 5\n",
      "RMSE score: 0.7680008672115964\n",
      "\n",
      "2 of kfold 5\n",
      "RMSE score: 0.7680008672115964\n",
      "\n",
      "3 of kfold 5\n",
      "RMSE score: 0.7680008672115964\n",
      "\n",
      "4 of kfold 5\n",
      "RMSE score: 0.7680008672115964\n",
      "\n",
      "5 of kfold 5\n",
      "RMSE score: 0.7680008672115964\n"
     ]
    }
   ],
   "source": [
    "knn_scores = cross_validation_score(KNeighborsRegressor(n_neighbors=2))"
   ]
  },
  {
   "cell_type": "markdown",
   "metadata": {},
   "source": [
    "### RIDGE"
   ]
  },
  {
   "cell_type": "code",
   "execution_count": 213,
   "metadata": {},
   "outputs": [
    {
     "name": "stdout",
     "output_type": "stream",
     "text": [
      "\n",
      "1 of kfold 5\n",
      "RMSE score: 0.8172228833146101\n",
      "\n",
      "2 of kfold 5\n",
      "RMSE score: 0.8172228833146101\n",
      "\n",
      "3 of kfold 5\n",
      "RMSE score: 0.8172228833146101\n",
      "\n",
      "4 of kfold 5\n",
      "RMSE score: 0.8172228833146101\n",
      "\n",
      "5 of kfold 5\n",
      "RMSE score: 0.8172228833146101\n"
     ]
    }
   ],
   "source": [
    "ridge_scores = cross_validation_score(Ridge(alpha=1.0))"
   ]
  },
  {
   "cell_type": "markdown",
   "metadata": {},
   "source": [
    "### Lasso"
   ]
  },
  {
   "cell_type": "code",
   "execution_count": 214,
   "metadata": {},
   "outputs": [
    {
     "name": "stdout",
     "output_type": "stream",
     "text": [
      "\n",
      "1 of kfold 5\n",
      "RMSE score: 0.8419821364784925\n",
      "\n",
      "2 of kfold 5\n",
      "RMSE score: 0.8419821364784925\n",
      "\n",
      "3 of kfold 5\n",
      "RMSE score: 0.8419821364784925\n",
      "\n",
      "4 of kfold 5\n",
      "RMSE score: 0.8419821364784925\n",
      "\n",
      "5 of kfold 5\n",
      "RMSE score: 0.8419821364784925\n"
     ]
    }
   ],
   "source": [
    "Lasso_scores = cross_validation_score(Lasso(alpha=0.1))"
   ]
  },
  {
   "cell_type": "code",
   "execution_count": 215,
   "metadata": {},
   "outputs": [
    {
     "data": {
      "text/html": [
       "<div>\n",
       "<style scoped>\n",
       "    .dataframe tbody tr th:only-of-type {\n",
       "        vertical-align: middle;\n",
       "    }\n",
       "\n",
       "    .dataframe tbody tr th {\n",
       "        vertical-align: top;\n",
       "    }\n",
       "\n",
       "    .dataframe thead th {\n",
       "        text-align: right;\n",
       "    }\n",
       "</style>\n",
       "<table border=\"1\" class=\"dataframe\">\n",
       "  <thead>\n",
       "    <tr style=\"text-align: right;\">\n",
       "      <th></th>\n",
       "      <th>linear_regression</th>\n",
       "      <th>DTree</th>\n",
       "      <th>KNN</th>\n",
       "      <th>Ridge</th>\n",
       "      <th>Lasso</th>\n",
       "    </tr>\n",
       "  </thead>\n",
       "  <tbody>\n",
       "    <tr>\n",
       "      <td>0</td>\n",
       "      <td>0.817223</td>\n",
       "      <td>0.384514</td>\n",
       "      <td>0.768001</td>\n",
       "      <td>0.817223</td>\n",
       "      <td>0.841982</td>\n",
       "    </tr>\n",
       "    <tr>\n",
       "      <td>1</td>\n",
       "      <td>0.817223</td>\n",
       "      <td>0.384514</td>\n",
       "      <td>0.768001</td>\n",
       "      <td>0.817223</td>\n",
       "      <td>0.841982</td>\n",
       "    </tr>\n",
       "    <tr>\n",
       "      <td>2</td>\n",
       "      <td>0.817223</td>\n",
       "      <td>0.384515</td>\n",
       "      <td>0.768001</td>\n",
       "      <td>0.817223</td>\n",
       "      <td>0.841982</td>\n",
       "    </tr>\n",
       "    <tr>\n",
       "      <td>3</td>\n",
       "      <td>0.817223</td>\n",
       "      <td>0.384518</td>\n",
       "      <td>0.768001</td>\n",
       "      <td>0.817223</td>\n",
       "      <td>0.841982</td>\n",
       "    </tr>\n",
       "    <tr>\n",
       "      <td>4</td>\n",
       "      <td>0.817223</td>\n",
       "      <td>0.384515</td>\n",
       "      <td>0.768001</td>\n",
       "      <td>0.817223</td>\n",
       "      <td>0.841982</td>\n",
       "    </tr>\n",
       "  </tbody>\n",
       "</table>\n",
       "</div>"
      ],
      "text/plain": [
       "   linear_regression     DTree       KNN     Ridge     Lasso\n",
       "0           0.817223  0.384514  0.768001  0.817223  0.841982\n",
       "1           0.817223  0.384514  0.768001  0.817223  0.841982\n",
       "2           0.817223  0.384515  0.768001  0.817223  0.841982\n",
       "3           0.817223  0.384518  0.768001  0.817223  0.841982\n",
       "4           0.817223  0.384515  0.768001  0.817223  0.841982"
      ]
     },
     "execution_count": 215,
     "metadata": {},
     "output_type": "execute_result"
    }
   ],
   "source": [
    "linreg_dtree = pd.DataFrame({'linear_regression':linreg_scores, 'DTree': dtree_scores, 'KNN':knn_scores, \n",
    "                             'Ridge':ridge_scores,'Lasso':Lasso_scores})\n",
    "linreg_dtree.head()"
   ]
  },
  {
   "cell_type": "code",
   "execution_count": 216,
   "metadata": {},
   "outputs": [
    {
     "data": {
      "text/plain": [
       "Text(0.5, 1.0, 'RMSE Score')"
      ]
     },
     "execution_count": 216,
     "metadata": {},
     "output_type": "execute_result"
    },
    {
     "data": {
      "image/png": "[encoded data removed]",
      "text/plain": [
       "<Figure size 1080x720 with 1 Axes>"
      ]
     },
     "metadata": {
      "needs_background": "light"
     },
     "output_type": "display_data"
    }
   ],
   "source": [
    "y=[\"linear_regression\", \"DTree\",'KNN','Ridge','Lasso']\n",
    "\n",
    "linreg_dtree.plot(y=y, kind=\"bar\", figsize=(15,10))\n",
    "plt.title(\"RMSE Score\")\n"
   ]
  },
  {
   "cell_type": "markdown",
   "metadata": {},
   "source": [
    "### Root mean square error is more in Linear Regression, KNN, Lasso and Ridge as compared with the Decision Tree, hence Decision Tree Regressor is a better model for the given dataset"
   ]
  },
  {
   "cell_type": "markdown",
   "metadata": {},
   "source": [
    "# GridSearchCV"
   ]
  },
  {
   "cell_type": "code",
   "execution_count": 217,
   "metadata": {},
   "outputs": [
    {
     "name": "stdout",
     "output_type": "stream",
     "text": [
      "GridSearchCV(cv='warn', error_score='raise-deprecating',\n",
      "             estimator={'DTree': DecisionTreeRegressor(criterion='mse',\n",
      "                                                       max_depth=None,\n",
      "                                                       max_features=None,\n",
      "                                                       max_leaf_nodes=None,\n",
      "                                                       min_impurity_decrease=0.0,\n",
      "                                                       min_impurity_split=None,\n",
      "                                                       min_samples_leaf=5,\n",
      "                                                       min_samples_split=20,\n",
      "                                                       min_weight_fraction_leaf=0.0,\n",
      "                                                       presort=False,\n",
      "                                                       random_state=None,\n",
      "                                                       splitter='best'),\n",
      "                        'KNN': KNeighborsR...\n",
      "                                       fit_intercept=True, max_iter=None,\n",
      "                                       normalize=False, random_state=None,\n",
      "                                       solver='auto', tol=0.001),\n",
      "                        'linear_regression': LinearRegression(copy_X=True,\n",
      "                                                              fit_intercept=True,\n",
      "                                                              n_jobs=None,\n",
      "                                                              normalize=False)},\n",
      "             iid='warn', n_jobs=None,\n",
      "             param_grid={'alpha': array([1.e+00, 1.e-01, 1.e-02, 1.e-03, 1.e-04, 0.e+00])},\n",
      "             pre_dispatch='2*n_jobs', refit=True, return_train_score=False,\n",
      "             scoring=None, verbose=0)\n"
     ]
    }
   ],
   "source": [
    "alphas = np.array([1,0.1,0.01,0.001,0.0001,0])\n",
    "model = {'linear_regression':LinearRegression(), 'DTree': DecisionTreeRegressor(min_samples_leaf=5, min_samples_split=20), 'KNN':KNeighborsRegressor(n_neighbors=2), 'Ridge':Ridge(alpha=1.0),'Lasso':Lasso(alpha=0.1)}\n",
    "grid = GridSearchCV(estimator=model, param_grid=dict(alpha=alphas))\n",
    "print(grid)\n",
    "# summarize the results of the grid search\n"
   ]
  },
  {
   "cell_type": "code",
   "execution_count": 218,
   "metadata": {},
   "outputs": [
    {
     "data": {
      "text/plain": [
       "['__abstractmethods__',\n",
       " '__class__',\n",
       " '__delattr__',\n",
       " '__dict__',\n",
       " '__dir__',\n",
       " '__doc__',\n",
       " '__eq__',\n",
       " '__format__',\n",
       " '__ge__',\n",
       " '__getattribute__',\n",
       " '__getstate__',\n",
       " '__gt__',\n",
       " '__hash__',\n",
       " '__init__',\n",
       " '__init_subclass__',\n",
       " '__le__',\n",
       " '__lt__',\n",
       " '__module__',\n",
       " '__ne__',\n",
       " '__new__',\n",
       " '__reduce__',\n",
       " '__reduce_ex__',\n",
       " '__repr__',\n",
       " '__setattr__',\n",
       " '__setstate__',\n",
       " '__sizeof__',\n",
       " '__str__',\n",
       " '__subclasshook__',\n",
       " '__weakref__',\n",
       " '_abc_impl',\n",
       " '_check_is_fitted',\n",
       " '_estimator_type',\n",
       " '_format_results',\n",
       " '_get_param_names',\n",
       " '_get_tags',\n",
       " '_required_parameters',\n",
       " '_run_search',\n",
       " 'classes_',\n",
       " 'decision_function',\n",
       " 'fit',\n",
       " 'get_params',\n",
       " 'inverse_transform',\n",
       " 'predict',\n",
       " 'predict_log_proba',\n",
       " 'predict_proba',\n",
       " 'score',\n",
       " 'set_params',\n",
       " 'transform']"
      ]
     },
     "execution_count": 218,
     "metadata": {},
     "output_type": "execute_result"
    }
   ],
   "source": [
    "dir(GridSearchCV)"
   ]
  },
  {
   "cell_type": "markdown",
   "metadata": {},
   "source": [
    "# Ensemble Model\n"
   ]
  },
  {
   "cell_type": "markdown",
   "metadata": {},
   "source": [
    "### Random Forest"
   ]
  },
  {
   "cell_type": "code",
   "execution_count": 219,
   "metadata": {},
   "outputs": [],
   "source": [
    "from sklearn.ensemble import RandomForestRegressor, GradientBoostingRegressor, AdaBoostRegressor\n",
    "from xgboost import XGBRegressor"
   ]
  },
  {
   "cell_type": "code",
   "execution_count": 220,
   "metadata": {},
   "outputs": [
    {
     "name": "stdout",
     "output_type": "stream",
     "text": [
      "\n",
      "1 of kfold 5\n",
      "RMSE score: 0.34905441656737185\n",
      "\n",
      "2 of kfold 5\n",
      "RMSE score: 0.34905441656737185\n",
      "\n",
      "3 of kfold 5\n",
      "RMSE score: 0.34905441656737185\n",
      "\n",
      "4 of kfold 5\n",
      "RMSE score: 0.34905441656737185\n",
      "\n",
      "5 of kfold 5\n",
      "RMSE score: 0.34905441656737185\n"
     ]
    }
   ],
   "source": [
    "rf_params = {'random_state': 24, 'n_estimators': 25, 'max_depth': 20, 'n_jobs': -1, \"min_samples_split\": 2}\n",
    "rf_scores = cross_validation_score(RandomForestRegressor(**rf_params))"
   ]
  },
  {
   "cell_type": "markdown",
   "metadata": {},
   "source": [
    "### Gradient Boosting Regressor"
   ]
  },
  {
   "cell_type": "code",
   "execution_count": 221,
   "metadata": {},
   "outputs": [
    {
     "name": "stdout",
     "output_type": "stream",
     "text": [
      "\n",
      "1 of kfold 5\n",
      "RMSE score: 0.80417969109213\n",
      "\n",
      "2 of kfold 5\n",
      "RMSE score: 0.8043280486295945\n",
      "\n",
      "3 of kfold 5\n",
      "RMSE score: 0.8043617658458819\n",
      "\n",
      "4 of kfold 5\n",
      "RMSE score: 0.8044004508875027\n",
      "\n",
      "5 of kfold 5\n",
      "RMSE score: 0.8043154580715518\n"
     ]
    }
   ],
   "source": [
    "params = {'n_estimators': 25, 'max_depth': 20, 'min_samples_split': 2,'learning_rate': 0.01, 'loss': 'ls'}\n",
    "gb_scores = cross_validation_score(GradientBoostingRegressor(**params))"
   ]
  },
  {
   "cell_type": "markdown",
   "metadata": {},
   "source": [
    "### AdaBoost Regressor"
   ]
  },
  {
   "cell_type": "code",
   "execution_count": 222,
   "metadata": {},
   "outputs": [
    {
     "name": "stdout",
     "output_type": "stream",
     "text": [
      "\n",
      "1 of kfold 5\n",
      "RMSE score: 0.5762854842980125\n",
      "\n",
      "2 of kfold 5\n",
      "RMSE score: 0.5762854842980125\n",
      "\n",
      "3 of kfold 5\n",
      "RMSE score: 0.5762854842980125\n",
      "\n",
      "4 of kfold 5\n",
      "RMSE score: 0.5762854842980125\n",
      "\n",
      "5 of kfold 5\n",
      "RMSE score: 0.5762854842980125\n"
     ]
    }
   ],
   "source": [
    "ada_scores = cross_validation_score(AdaBoostRegressor(n_estimators=50, random_state=0))"
   ]
  },
  {
   "cell_type": "markdown",
   "metadata": {},
   "source": [
    "### XGBRegressor"
   ]
  },
  {
   "cell_type": "code",
   "execution_count": 223,
   "metadata": {},
   "outputs": [
    {
     "name": "stdout",
     "output_type": "stream",
     "text": [
      "\n",
      "1 of kfold 5\n",
      "RMSE score: 0.3333969264663071\n",
      "\n",
      "2 of kfold 5\n",
      "RMSE score: 0.3333969264663071\n",
      "\n",
      "3 of kfold 5\n",
      "RMSE score: 0.3333969264663071\n",
      "\n",
      "4 of kfold 5\n",
      "RMSE score: 0.3333969264663071\n",
      "\n",
      "5 of kfold 5\n",
      "RMSE score: 0.3333969264663071\n"
     ]
    }
   ],
   "source": [
    "xgb_scores= cross_validation_score(XGBRegressor(max_depth=15,learning_rate=0.1,n_estimators=50, min_child_weight=5,\n",
    "                                                random_state=42,objective='reg:squarederror',reg_lambda=5))"
   ]
  },
  {
   "cell_type": "code",
   "execution_count": 224,
   "metadata": {},
   "outputs": [
    {
     "data": {
      "text/html": [
       "<div>\n",
       "<style scoped>\n",
       "    .dataframe tbody tr th:only-of-type {\n",
       "        vertical-align: middle;\n",
       "    }\n",
       "\n",
       "    .dataframe tbody tr th {\n",
       "        vertical-align: top;\n",
       "    }\n",
       "\n",
       "    .dataframe thead th {\n",
       "        text-align: right;\n",
       "    }\n",
       "</style>\n",
       "<table border=\"1\" class=\"dataframe\">\n",
       "  <thead>\n",
       "    <tr style=\"text-align: right;\">\n",
       "      <th></th>\n",
       "      <th>Random Forest</th>\n",
       "      <th>Gradient Boosting Regressor</th>\n",
       "      <th>AdaBoost Regressor</th>\n",
       "      <th>XGBRegressor</th>\n",
       "    </tr>\n",
       "  </thead>\n",
       "  <tbody>\n",
       "    <tr>\n",
       "      <td>0</td>\n",
       "      <td>0.349054</td>\n",
       "      <td>0.804180</td>\n",
       "      <td>0.576285</td>\n",
       "      <td>0.333397</td>\n",
       "    </tr>\n",
       "    <tr>\n",
       "      <td>1</td>\n",
       "      <td>0.349054</td>\n",
       "      <td>0.804328</td>\n",
       "      <td>0.576285</td>\n",
       "      <td>0.333397</td>\n",
       "    </tr>\n",
       "    <tr>\n",
       "      <td>2</td>\n",
       "      <td>0.349054</td>\n",
       "      <td>0.804362</td>\n",
       "      <td>0.576285</td>\n",
       "      <td>0.333397</td>\n",
       "    </tr>\n",
       "    <tr>\n",
       "      <td>3</td>\n",
       "      <td>0.349054</td>\n",
       "      <td>0.804400</td>\n",
       "      <td>0.576285</td>\n",
       "      <td>0.333397</td>\n",
       "    </tr>\n",
       "    <tr>\n",
       "      <td>4</td>\n",
       "      <td>0.349054</td>\n",
       "      <td>0.804315</td>\n",
       "      <td>0.576285</td>\n",
       "      <td>0.333397</td>\n",
       "    </tr>\n",
       "  </tbody>\n",
       "</table>\n",
       "</div>"
      ],
      "text/plain": [
       "   Random Forest  Gradient Boosting Regressor  AdaBoost Regressor  \\\n",
       "0       0.349054                     0.804180            0.576285   \n",
       "1       0.349054                     0.804328            0.576285   \n",
       "2       0.349054                     0.804362            0.576285   \n",
       "3       0.349054                     0.804400            0.576285   \n",
       "4       0.349054                     0.804315            0.576285   \n",
       "\n",
       "   XGBRegressor  \n",
       "0      0.333397  \n",
       "1      0.333397  \n",
       "2      0.333397  \n",
       "3      0.333397  \n",
       "4      0.333397  "
      ]
     },
     "execution_count": 224,
     "metadata": {},
     "output_type": "execute_result"
    }
   ],
   "source": [
    "rf_gb = pd.DataFrame({'Random Forest':rf_scores, 'Gradient Boosting Regressor': gb_scores,'AdaBoost Regressor':ada_scores,'XGBRegressor':xgb_scores})\n",
    "rf_gb.head()"
   ]
  },
  {
   "cell_type": "code",
   "execution_count": 225,
   "metadata": {},
   "outputs": [
    {
     "data": {
      "text/plain": [
       "Text(0.5, 1.0, 'RMSE Score')"
      ]
     },
     "execution_count": 225,
     "metadata": {},
     "output_type": "execute_result"
    },
    {
     "data": {
      "image/png": "[encoded data removed]",
      "text/plain": [
       "<Figure size 1080x720 with 1 Axes>"
      ]
     },
     "metadata": {
      "needs_background": "light"
     },
     "output_type": "display_data"
    }
   ],
   "source": [
    "y1=[\"Random Forest\", \"Gradient Boosting Regressor\",\"AdaBoost Regressor\",\"XGBRegressor\"]\n",
    "\n",
    "rf_gb.plot(y=y1, kind=\"bar\", figsize=(15,10))\n",
    "plt.title(\"RMSE Score\")"
   ]
  },
  {
   "cell_type": "markdown",
   "metadata": {},
   "source": [
    "### Root mean square error is more in Gradient Boosting Regressor,Random forest and AdaBoost Regressor as compared with XGBoost ensemble algorithm, hence XGBoost Regressor is a better model for the given dataset"
   ]
  }
 ],
 "metadata": {
  "kernelspec": {
   "display_name": "Python 3",
   "language": "python",
   "name": "python3"
  },
  "language_info": {
   "codemirror_mode": {
    "name": "ipython",
    "version": 3
   },
   "file_extension": ".py",
   "mimetype": "text/x-python",
   "name": "python",
   "nbconvert_exporter": "python",
   "pygments_lexer": "ipython3",
   "version": "3.7.4"
  }
 },
 "nbformat": 4,
 "nbformat_minor": 2
}
